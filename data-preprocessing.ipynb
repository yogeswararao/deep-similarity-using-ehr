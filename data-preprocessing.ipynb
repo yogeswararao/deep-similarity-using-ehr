{
 "cells": [
  {
   "cell_type": "markdown",
   "id": "c74161e5",
   "metadata": {},
   "source": [
    "## !!! Data Pre-processing !!!"
   ]
  },
  {
   "cell_type": "code",
   "execution_count": 8,
   "id": "100f8317",
   "metadata": {},
   "outputs": [],
   "source": [
    "import numpy as np\n",
    "import pandas as pd\n",
    "import torch\n",
    "import torch.nn as nn\n",
    "import matplotlib.pyplot as plt\n",
    "from sklearn import preprocessing\n",
    "\n",
    "import warnings\n",
    "warnings.filterwarnings(\"ignore\")"
   ]
  },
  {
   "cell_type": "markdown",
   "id": "d7ebc5e5",
   "metadata": {},
   "source": [
    "### Loading raw data\n",
    "* Loading imported data from ORBDA. Data was previously saved to csv from postgresql database. \n",
    "* Columns are renamed to match the names in the paper. \n",
    "* Filtered data with the required 10 target labels."
   ]
  },
  {
   "cell_type": "code",
   "execution_count": 9,
   "id": "2b4140f9",
   "metadata": {},
   "outputs": [],
   "source": [
    "# Due to the size of the data, only a sample data file \"data-nephrology-s.csv.gz\" is available in the repo. \n",
    "# Full data can be  downloaded from ORBDA website. \n",
    "# Pre-processed output of the full data is avialble under \"processed-data\". \n",
    "data_all = pd.read_csv(\"./raw-data/data-nephrology.csv.gz\")"
   ]
  },
  {
   "cell_type": "code",
   "execution_count": 10,
   "id": "2bbb5fb0",
   "metadata": {},
   "outputs": [],
   "source": [
    "data = data_all[[\"ap_cnspcn\", \"ap_cmp\", \"an_hcv\", \"an_hiv\", \"an_hbsag\", \"ap_nuidade\", \"ap_coduni\", \"ap_pripal\", \\\n",
    "                 \"ap_motsai\", \"estado\", \"an_tru\", \"an_intfis\", \"an_diures\", \"ap_cidpri\"]]"
   ]
  },
  {
   "cell_type": "code",
   "execution_count": 11,
   "id": "2dab5b60",
   "metadata": {},
   "outputs": [],
   "source": [
    "data = data.rename(columns={\"ap_cnspcn\": \"owner_id\", \"ap_cmp\": \"dt\", \"an_hcv\": \"HIC_antibodies\", \"an_hiv\": \"HIV\", \\\n",
    "                    \"an_hbsag\": \"HbsAg\", \"ap_nuidade\": \"Age\", \"ap_coduni\": \"Hc_u\", \"ap_pripal\": \"Procedure\", \\\n",
    "                    \"ap_motsai\": \"r_f_d\", \"estado\": \"State\", \"an_tru\": \"u_red_r\", \"an_intfis\": \"v_f_amount\", \\\n",
    "                    \"an_diures\": \"Vlm\", \"ap_cidpri\": \"label\"})"
   ]
  },
  {
   "cell_type": "code",
   "execution_count": 12,
   "id": "da2dd327",
   "metadata": {},
   "outputs": [
    {
     "data": {
      "text/html": [
       "<div>\n",
       "<style scoped>\n",
       "    .dataframe tbody tr th:only-of-type {\n",
       "        vertical-align: middle;\n",
       "    }\n",
       "\n",
       "    .dataframe tbody tr th {\n",
       "        vertical-align: top;\n",
       "    }\n",
       "\n",
       "    .dataframe thead th {\n",
       "        text-align: right;\n",
       "    }\n",
       "</style>\n",
       "<table border=\"1\" class=\"dataframe\">\n",
       "  <thead>\n",
       "    <tr style=\"text-align: right;\">\n",
       "      <th></th>\n",
       "      <th>owner_id</th>\n",
       "      <th>dt</th>\n",
       "      <th>HIC_antibodies</th>\n",
       "      <th>HIV</th>\n",
       "      <th>HbsAg</th>\n",
       "      <th>Age</th>\n",
       "      <th>Hc_u</th>\n",
       "      <th>Procedure</th>\n",
       "      <th>r_f_d</th>\n",
       "      <th>State</th>\n",
       "      <th>u_red_r</th>\n",
       "      <th>v_f_amount</th>\n",
       "      <th>Vlm</th>\n",
       "      <th>label</th>\n",
       "    </tr>\n",
       "  </thead>\n",
       "  <tbody>\n",
       "    <tr>\n",
       "      <th>0</th>\n",
       "      <td>0a4d84042d1c22d14653389dc54db7bd80fd48478c7052...</td>\n",
       "      <td>200805</td>\n",
       "      <td>N</td>\n",
       "      <td>N</td>\n",
       "      <td>N</td>\n",
       "      <td>49</td>\n",
       "      <td>1e094d3407818ed6</td>\n",
       "      <td>305010107</td>\n",
       "      <td>21</td>\n",
       "      <td>PR</td>\n",
       "      <td>0</td>\n",
       "      <td>0</td>\n",
       "      <td></td>\n",
       "      <td>N189</td>\n",
       "    </tr>\n",
       "    <tr>\n",
       "      <th>1</th>\n",
       "      <td>df9541344c027bb8344464f7c7665eb8948463ac48c46f...</td>\n",
       "      <td>200805</td>\n",
       "      <td>N</td>\n",
       "      <td>N</td>\n",
       "      <td>N</td>\n",
       "      <td>9</td>\n",
       "      <td>0a1df836bb7463e3</td>\n",
       "      <td>305010166</td>\n",
       "      <td>21</td>\n",
       "      <td>PR</td>\n",
       "      <td>0000</td>\n",
       "      <td>00</td>\n",
       "      <td></td>\n",
       "      <td>N004</td>\n",
       "    </tr>\n",
       "    <tr>\n",
       "      <th>2</th>\n",
       "      <td>0a4d84042d1c22d12d3892d969185609ace7712bc13865...</td>\n",
       "      <td>200805</td>\n",
       "      <td>N</td>\n",
       "      <td>N</td>\n",
       "      <td>N</td>\n",
       "      <td>26</td>\n",
       "      <td>db56c1be4286df45</td>\n",
       "      <td>305010107</td>\n",
       "      <td>21</td>\n",
       "      <td>PR</td>\n",
       "      <td>68</td>\n",
       "      <td>0</td>\n",
       "      <td></td>\n",
       "      <td>N180</td>\n",
       "    </tr>\n",
       "    <tr>\n",
       "      <th>3</th>\n",
       "      <td>0a4d84042d1c22d14f81f4cea79139f1a45cb047d3ea60...</td>\n",
       "      <td>200805</td>\n",
       "      <td>N</td>\n",
       "      <td>N</td>\n",
       "      <td>N</td>\n",
       "      <td>51</td>\n",
       "      <td>c1cce71139901cca</td>\n",
       "      <td>305010107</td>\n",
       "      <td>21</td>\n",
       "      <td>PR</td>\n",
       "      <td>69</td>\n",
       "      <td>0</td>\n",
       "      <td></td>\n",
       "      <td>N180</td>\n",
       "    </tr>\n",
       "    <tr>\n",
       "      <th>4</th>\n",
       "      <td>066dc1f1bf291e96293fb2f9f74e8ff08c07861890352c...</td>\n",
       "      <td>200805</td>\n",
       "      <td>N</td>\n",
       "      <td>N</td>\n",
       "      <td>N</td>\n",
       "      <td>63</td>\n",
       "      <td>bfcd38cea31765c0</td>\n",
       "      <td>305010107</td>\n",
       "      <td>21</td>\n",
       "      <td>PR</td>\n",
       "      <td>69</td>\n",
       "      <td>1</td>\n",
       "      <td></td>\n",
       "      <td>N180</td>\n",
       "    </tr>\n",
       "  </tbody>\n",
       "</table>\n",
       "</div>"
      ],
      "text/plain": [
       "                                            owner_id      dt HIC_antibodies  \\\n",
       "0  0a4d84042d1c22d14653389dc54db7bd80fd48478c7052...  200805              N   \n",
       "1  df9541344c027bb8344464f7c7665eb8948463ac48c46f...  200805              N   \n",
       "2  0a4d84042d1c22d12d3892d969185609ace7712bc13865...  200805              N   \n",
       "3  0a4d84042d1c22d14f81f4cea79139f1a45cb047d3ea60...  200805              N   \n",
       "4  066dc1f1bf291e96293fb2f9f74e8ff08c07861890352c...  200805              N   \n",
       "\n",
       "  HIV HbsAg  Age              Hc_u  Procedure  r_f_d State u_red_r v_f_amount  \\\n",
       "0   N     N   49  1e094d3407818ed6  305010107     21    PR    0            0    \n",
       "1   N     N    9  0a1df836bb7463e3  305010166     21    PR    0000         00   \n",
       "2   N     N   26  db56c1be4286df45  305010107     21    PR      68          0   \n",
       "3   N     N   51  c1cce71139901cca  305010107     21    PR      69          0   \n",
       "4   N     N   63  bfcd38cea31765c0  305010107     21    PR    69           1    \n",
       "\n",
       "    Vlm label  \n",
       "0        N189  \n",
       "1        N004  \n",
       "2        N180  \n",
       "3        N180  \n",
       "4        N180  "
      ]
     },
     "execution_count": 12,
     "metadata": {},
     "output_type": "execute_result"
    }
   ],
   "source": [
    "data.head()"
   ]
  },
  {
   "cell_type": "code",
   "execution_count": 13,
   "id": "ce4f59d3",
   "metadata": {},
   "outputs": [],
   "source": [
    "data[\"label\"] = data[\"label\"].str.strip()"
   ]
  },
  {
   "cell_type": "code",
   "execution_count": 14,
   "id": "662bc75b",
   "metadata": {},
   "outputs": [],
   "source": [
    "# E10.2 Type 1 diabetes mellitus with renal complications  \n",
    "# E14.2 Unspecified diabetes mellitus with renal complications\n",
    "# I10 Essential (primary) hypertension \n",
    "# I12.0 Hypertensive renal disease with renal failure  \n",
    "# N03.9 Chronic nephritic syndrome : unspecified  \n",
    "# N08.3 Glomerular disorders in diabetes mellitus  \n",
    "# N08.8 Glomerular disorders in other diseases classified elsewhere  \n",
    "# N18 Chronic kidney disease  \n",
    "# N18.8 Other chronic kidney disease\n",
    "# N18.9 Chronic kidney disease, unspecified  \n",
    "labels = [\"E102\", \"E142\", \"I10\", \"I120\", \"N039\", \"N083\", \"N088\", \"N180\", \"N188\", \"N189\"]"
   ]
  },
  {
   "cell_type": "code",
   "execution_count": 15,
   "id": "9570515f",
   "metadata": {},
   "outputs": [],
   "source": [
    "data_f = data[data[\"label\"].isin(labels)]"
   ]
  },
  {
   "cell_type": "markdown",
   "id": "fc6010dc",
   "metadata": {},
   "source": [
    "### Converting (owner_id) to integer patient id (p_id)"
   ]
  },
  {
   "cell_type": "code",
   "execution_count": 16,
   "id": "3533ef98",
   "metadata": {},
   "outputs": [],
   "source": [
    "owner_ids = data_f[\"owner_id\"].unique()"
   ]
  },
  {
   "cell_type": "code",
   "execution_count": 17,
   "id": "a84e4bf0",
   "metadata": {},
   "outputs": [
    {
     "name": "stdout",
     "output_type": "stream",
     "text": [
      "227037\n",
      "0a4d84042d1c22d14653389dc54db7bd80fd48478c70522e57850c05b5fb5559\n"
     ]
    }
   ],
   "source": [
    "print(len(owner_ids))\n",
    "print(owner_ids[0])"
   ]
  },
  {
   "cell_type": "code",
   "execution_count": 18,
   "id": "4be6dde5",
   "metadata": {},
   "outputs": [],
   "source": [
    "data_f[\"owner_id\"] = data_f[\"owner_id\"].astype('category')\n",
    "data_f[\"p_id\"] = data_f[\"owner_id\"].cat.codes"
   ]
  },
  {
   "cell_type": "code",
   "execution_count": 19,
   "id": "a7308b3a",
   "metadata": {},
   "outputs": [],
   "source": [
    "data_f = data_f.drop(columns=['owner_id'])"
   ]
  },
  {
   "cell_type": "code",
   "execution_count": 20,
   "id": "20e7e978",
   "metadata": {},
   "outputs": [
    {
     "data": {
      "text/html": [
       "<div>\n",
       "<style scoped>\n",
       "    .dataframe tbody tr th:only-of-type {\n",
       "        vertical-align: middle;\n",
       "    }\n",
       "\n",
       "    .dataframe tbody tr th {\n",
       "        vertical-align: top;\n",
       "    }\n",
       "\n",
       "    .dataframe thead th {\n",
       "        text-align: right;\n",
       "    }\n",
       "</style>\n",
       "<table border=\"1\" class=\"dataframe\">\n",
       "  <thead>\n",
       "    <tr style=\"text-align: right;\">\n",
       "      <th></th>\n",
       "      <th>dt</th>\n",
       "      <th>HIC_antibodies</th>\n",
       "      <th>HIV</th>\n",
       "      <th>HbsAg</th>\n",
       "      <th>Age</th>\n",
       "      <th>Hc_u</th>\n",
       "      <th>Procedure</th>\n",
       "      <th>r_f_d</th>\n",
       "      <th>State</th>\n",
       "      <th>u_red_r</th>\n",
       "      <th>v_f_amount</th>\n",
       "      <th>Vlm</th>\n",
       "      <th>label</th>\n",
       "      <th>p_id</th>\n",
       "    </tr>\n",
       "  </thead>\n",
       "  <tbody>\n",
       "    <tr>\n",
       "      <th>0</th>\n",
       "      <td>200805</td>\n",
       "      <td>N</td>\n",
       "      <td>N</td>\n",
       "      <td>N</td>\n",
       "      <td>49</td>\n",
       "      <td>1e094d3407818ed6</td>\n",
       "      <td>305010107</td>\n",
       "      <td>21</td>\n",
       "      <td>PR</td>\n",
       "      <td>0</td>\n",
       "      <td>0</td>\n",
       "      <td></td>\n",
       "      <td>N189</td>\n",
       "      <td>52685</td>\n",
       "    </tr>\n",
       "    <tr>\n",
       "      <th>2</th>\n",
       "      <td>200805</td>\n",
       "      <td>N</td>\n",
       "      <td>N</td>\n",
       "      <td>N</td>\n",
       "      <td>26</td>\n",
       "      <td>db56c1be4286df45</td>\n",
       "      <td>305010107</td>\n",
       "      <td>21</td>\n",
       "      <td>PR</td>\n",
       "      <td>68</td>\n",
       "      <td>0</td>\n",
       "      <td></td>\n",
       "      <td>N180</td>\n",
       "      <td>37378</td>\n",
       "    </tr>\n",
       "    <tr>\n",
       "      <th>3</th>\n",
       "      <td>200805</td>\n",
       "      <td>N</td>\n",
       "      <td>N</td>\n",
       "      <td>N</td>\n",
       "      <td>51</td>\n",
       "      <td>c1cce71139901cca</td>\n",
       "      <td>305010107</td>\n",
       "      <td>21</td>\n",
       "      <td>PR</td>\n",
       "      <td>69</td>\n",
       "      <td>0</td>\n",
       "      <td></td>\n",
       "      <td>N180</td>\n",
       "      <td>58764</td>\n",
       "    </tr>\n",
       "    <tr>\n",
       "      <th>4</th>\n",
       "      <td>200805</td>\n",
       "      <td>N</td>\n",
       "      <td>N</td>\n",
       "      <td>N</td>\n",
       "      <td>63</td>\n",
       "      <td>bfcd38cea31765c0</td>\n",
       "      <td>305010107</td>\n",
       "      <td>21</td>\n",
       "      <td>PR</td>\n",
       "      <td>69</td>\n",
       "      <td>1</td>\n",
       "      <td></td>\n",
       "      <td>N180</td>\n",
       "      <td>2839</td>\n",
       "    </tr>\n",
       "    <tr>\n",
       "      <th>5</th>\n",
       "      <td>200805</td>\n",
       "      <td>N</td>\n",
       "      <td>N</td>\n",
       "      <td>N</td>\n",
       "      <td>54</td>\n",
       "      <td>bfcd38cea31765c0</td>\n",
       "      <td>305010107</td>\n",
       "      <td>21</td>\n",
       "      <td>PR</td>\n",
       "      <td>60</td>\n",
       "      <td>0</td>\n",
       "      <td></td>\n",
       "      <td>N180</td>\n",
       "      <td>20019</td>\n",
       "    </tr>\n",
       "  </tbody>\n",
       "</table>\n",
       "</div>"
      ],
      "text/plain": [
       "       dt HIC_antibodies HIV HbsAg  Age              Hc_u  Procedure  r_f_d  \\\n",
       "0  200805              N   N     N   49  1e094d3407818ed6  305010107     21   \n",
       "2  200805              N   N     N   26  db56c1be4286df45  305010107     21   \n",
       "3  200805              N   N     N   51  c1cce71139901cca  305010107     21   \n",
       "4  200805              N   N     N   63  bfcd38cea31765c0  305010107     21   \n",
       "5  200805              N   N     N   54  bfcd38cea31765c0  305010107     21   \n",
       "\n",
       "  State u_red_r v_f_amount   Vlm label   p_id  \n",
       "0    PR    0            0         N189  52685  \n",
       "2    PR      68          0        N180  37378  \n",
       "3    PR      69          0        N180  58764  \n",
       "4    PR    69           1         N180   2839  \n",
       "5    PR    60           0         N180  20019  "
      ]
     },
     "execution_count": 20,
     "metadata": {},
     "output_type": "execute_result"
    }
   ],
   "source": [
    "data_f.head()"
   ]
  },
  {
   "cell_type": "markdown",
   "id": "a9d8c5eb",
   "metadata": {},
   "source": [
    "### Data type conversions and cleanup "
   ]
  },
  {
   "cell_type": "code",
   "execution_count": 21,
   "id": "e5714503",
   "metadata": {},
   "outputs": [],
   "source": [
    "def to_bool(x):\n",
    "    if x == 'N':\n",
    "        x = 0\n",
    "    else:\n",
    "        x = 1\n",
    "    return x"
   ]
  },
  {
   "cell_type": "code",
   "execution_count": 22,
   "id": "0dc12f46",
   "metadata": {},
   "outputs": [],
   "source": [
    "def trim(x):\n",
    "    x = x.strip(' ')\n",
    "    x = x.lstrip('0')\n",
    "    if len(x) == 0:\n",
    "        x = -1\n",
    "    else:\n",
    "        if ',' in x:\n",
    "            #print(x)\n",
    "            tokens = x.strip(',')\n",
    "            if len(tokens) > 0:\n",
    "                x = tokens[0]\n",
    "            else:\n",
    "                x = -1\n",
    "        if x == '-':\n",
    "            x = -1\n",
    "        try:\n",
    "            x = int(x)\n",
    "        except:\n",
    "            #print(x)\n",
    "            x = -1\n",
    "    return(x)"
   ]
  },
  {
   "cell_type": "code",
   "execution_count": 23,
   "id": "6658179b",
   "metadata": {},
   "outputs": [],
   "source": [
    "data_f[\"HIC_antibodies\"] = data_f[\"HIC_antibodies\"].apply(to_bool)\n",
    "data_f[\"HIV\"] = data_f[\"HIV\"].apply(to_bool)\n",
    "data_f[\"HbsAg\"] = data_f[\"HbsAg\"].apply(to_bool)"
   ]
  },
  {
   "cell_type": "code",
   "execution_count": 24,
   "id": "0f1a5ff8",
   "metadata": {},
   "outputs": [],
   "source": [
    "data_f['Vlm'] = data_f['Vlm'].apply(trim)\n",
    "data_f['v_f_amount'] = data_f['v_f_amount'].apply(trim)\n",
    "data_f['u_red_r'] = data_f['u_red_r'].apply(trim)\n",
    "\n",
    "data_f['Vlm'] = data_f['Vlm'].astype(int)\n",
    "data_f['v_f_amount'] = data_f['v_f_amount'].astype(int)\n",
    "data_f['u_red_r'] = data_f['u_red_r'].astype(int)"
   ]
  },
  {
   "cell_type": "markdown",
   "id": "7bd75e3f",
   "metadata": {},
   "source": [
    "### Dropping rows with null values for \"Urea Reduction Rate\", \"Venous Fistula Ammount\" & \"Volume\""
   ]
  },
  {
   "cell_type": "code",
   "execution_count": 25,
   "id": "c8ca8765",
   "metadata": {},
   "outputs": [],
   "source": [
    "data_f = data_f.replace(-1, np.nan)"
   ]
  },
  {
   "cell_type": "code",
   "execution_count": 26,
   "id": "9d4fca06",
   "metadata": {},
   "outputs": [
    {
     "data": {
      "text/html": [
       "<div>\n",
       "<style scoped>\n",
       "    .dataframe tbody tr th:only-of-type {\n",
       "        vertical-align: middle;\n",
       "    }\n",
       "\n",
       "    .dataframe tbody tr th {\n",
       "        vertical-align: top;\n",
       "    }\n",
       "\n",
       "    .dataframe thead th {\n",
       "        text-align: right;\n",
       "    }\n",
       "</style>\n",
       "<table border=\"1\" class=\"dataframe\">\n",
       "  <thead>\n",
       "    <tr style=\"text-align: right;\">\n",
       "      <th></th>\n",
       "      <th>dt</th>\n",
       "      <th>HIC_antibodies</th>\n",
       "      <th>HIV</th>\n",
       "      <th>HbsAg</th>\n",
       "      <th>Age</th>\n",
       "      <th>Hc_u</th>\n",
       "      <th>Procedure</th>\n",
       "      <th>r_f_d</th>\n",
       "      <th>State</th>\n",
       "      <th>u_red_r</th>\n",
       "      <th>v_f_amount</th>\n",
       "      <th>Vlm</th>\n",
       "      <th>label</th>\n",
       "      <th>p_id</th>\n",
       "    </tr>\n",
       "  </thead>\n",
       "  <tbody>\n",
       "    <tr>\n",
       "      <th>0</th>\n",
       "      <td>200805</td>\n",
       "      <td>0</td>\n",
       "      <td>0</td>\n",
       "      <td>0</td>\n",
       "      <td>49</td>\n",
       "      <td>1e094d3407818ed6</td>\n",
       "      <td>305010107</td>\n",
       "      <td>21</td>\n",
       "      <td>PR</td>\n",
       "      <td>NaN</td>\n",
       "      <td>NaN</td>\n",
       "      <td>NaN</td>\n",
       "      <td>N189</td>\n",
       "      <td>52685</td>\n",
       "    </tr>\n",
       "    <tr>\n",
       "      <th>2</th>\n",
       "      <td>200805</td>\n",
       "      <td>0</td>\n",
       "      <td>0</td>\n",
       "      <td>0</td>\n",
       "      <td>26</td>\n",
       "      <td>db56c1be4286df45</td>\n",
       "      <td>305010107</td>\n",
       "      <td>21</td>\n",
       "      <td>PR</td>\n",
       "      <td>68.0</td>\n",
       "      <td>NaN</td>\n",
       "      <td>NaN</td>\n",
       "      <td>N180</td>\n",
       "      <td>37378</td>\n",
       "    </tr>\n",
       "    <tr>\n",
       "      <th>3</th>\n",
       "      <td>200805</td>\n",
       "      <td>0</td>\n",
       "      <td>0</td>\n",
       "      <td>0</td>\n",
       "      <td>51</td>\n",
       "      <td>c1cce71139901cca</td>\n",
       "      <td>305010107</td>\n",
       "      <td>21</td>\n",
       "      <td>PR</td>\n",
       "      <td>69.0</td>\n",
       "      <td>NaN</td>\n",
       "      <td>NaN</td>\n",
       "      <td>N180</td>\n",
       "      <td>58764</td>\n",
       "    </tr>\n",
       "    <tr>\n",
       "      <th>4</th>\n",
       "      <td>200805</td>\n",
       "      <td>0</td>\n",
       "      <td>0</td>\n",
       "      <td>0</td>\n",
       "      <td>63</td>\n",
       "      <td>bfcd38cea31765c0</td>\n",
       "      <td>305010107</td>\n",
       "      <td>21</td>\n",
       "      <td>PR</td>\n",
       "      <td>69.0</td>\n",
       "      <td>1.0</td>\n",
       "      <td>NaN</td>\n",
       "      <td>N180</td>\n",
       "      <td>2839</td>\n",
       "    </tr>\n",
       "    <tr>\n",
       "      <th>5</th>\n",
       "      <td>200805</td>\n",
       "      <td>0</td>\n",
       "      <td>0</td>\n",
       "      <td>0</td>\n",
       "      <td>54</td>\n",
       "      <td>bfcd38cea31765c0</td>\n",
       "      <td>305010107</td>\n",
       "      <td>21</td>\n",
       "      <td>PR</td>\n",
       "      <td>60.0</td>\n",
       "      <td>NaN</td>\n",
       "      <td>NaN</td>\n",
       "      <td>N180</td>\n",
       "      <td>20019</td>\n",
       "    </tr>\n",
       "  </tbody>\n",
       "</table>\n",
       "</div>"
      ],
      "text/plain": [
       "       dt  HIC_antibodies  HIV  HbsAg  Age              Hc_u  Procedure  \\\n",
       "0  200805               0    0      0   49  1e094d3407818ed6  305010107   \n",
       "2  200805               0    0      0   26  db56c1be4286df45  305010107   \n",
       "3  200805               0    0      0   51  c1cce71139901cca  305010107   \n",
       "4  200805               0    0      0   63  bfcd38cea31765c0  305010107   \n",
       "5  200805               0    0      0   54  bfcd38cea31765c0  305010107   \n",
       "\n",
       "   r_f_d State  u_red_r  v_f_amount  Vlm label   p_id  \n",
       "0     21    PR      NaN         NaN  NaN  N189  52685  \n",
       "2     21    PR     68.0         NaN  NaN  N180  37378  \n",
       "3     21    PR     69.0         NaN  NaN  N180  58764  \n",
       "4     21    PR     69.0         1.0  NaN  N180   2839  \n",
       "5     21    PR     60.0         NaN  NaN  N180  20019  "
      ]
     },
     "execution_count": 26,
     "metadata": {},
     "output_type": "execute_result"
    }
   ],
   "source": [
    "data_f.head()"
   ]
  },
  {
   "cell_type": "code",
   "execution_count": 27,
   "id": "3d1effed",
   "metadata": {},
   "outputs": [],
   "source": [
    "d_f = data_f[(~data_f[\"Vlm\"].isna()) | (~data_f[\"v_f_amount\"].isna()) | (~data_f[\"u_red_r\"].isna())]"
   ]
  },
  {
   "cell_type": "markdown",
   "id": "7799654f",
   "metadata": {},
   "source": [
    "### Total number of records for each class "
   ]
  },
  {
   "cell_type": "code",
   "execution_count": 28,
   "id": "cba5e4a1",
   "metadata": {},
   "outputs": [
    {
     "name": "stdout",
     "output_type": "stream",
     "text": [
      "E102:968\n",
      "E142:1809\n",
      "I10:4224\n",
      "I120:14365\n",
      "N039:5310\n",
      "N083:4480\n",
      "N088:1381\n",
      "N180:3333730\n",
      "N188:3824\n",
      "N189:23294\n"
     ]
    }
   ],
   "source": [
    "for l in labels:\n",
    "    d_f_l = d_f[d_f[\"label\"] == l]\n",
    "    print(f\"{l}:{len(d_f_l)}\")"
   ]
  },
  {
   "cell_type": "markdown",
   "id": "7c1ded3e",
   "metadata": {},
   "source": [
    "### Total number of unique patients "
   ]
  },
  {
   "cell_type": "code",
   "execution_count": 29,
   "id": "b9586c42",
   "metadata": {},
   "outputs": [
    {
     "name": "stdout",
     "output_type": "stream",
     "text": [
      "184123\n"
     ]
    }
   ],
   "source": [
    "pids = d_f[\"p_id\"].unique()\n",
    "print(len(pids))"
   ]
  },
  {
   "cell_type": "markdown",
   "id": "23030d87",
   "metadata": {},
   "source": [
    "### Filling missing values using interpolation. \n",
    "* Each patient have multiple visits. Interpolation is applied for each patient one at a time by grouping patient records.\n",
    "* For each patient visits are sorted by date(dt) before applying interpolation.\n",
    "* First \"polynomial\" interpolation is applied followed by \"linear\" for missing edges. "
   ]
  },
  {
   "cell_type": "code",
   "execution_count": 30,
   "id": "61062501",
   "metadata": {},
   "outputs": [],
   "source": [
    "from sklearn.preprocessing import MinMaxScaler\n",
    "from sklearn.utils import shuffle\n",
    "\n",
    "df_all = []\n",
    "for idx, p in enumerate(pids):\n",
    "    p_df = d_f[(d_f[\"p_id\"] == p)]\n",
    "    p_df = p_df.sort_values(by=['dt'])\n",
    "    try:\n",
    "        p_df = p_df.interpolate(method='polynomial', order=2)\n",
    "    except:\n",
    "        pass\n",
    "    p_df = p_df.interpolate(method='linear', limit_direction='forward', axis=0)\n",
    "    p_df = p_df.interpolate(method='linear', limit_direction='backward', axis=0)\n",
    "    p_df = p_df.fillna(0)\n",
    "    df_all.append(shuffle(p_df))\n",
    "    \n",
    "df_in = pd.concat(df_all, axis=0, ignore_index=True, sort=False)"
   ]
  },
  {
   "cell_type": "code",
   "execution_count": 31,
   "id": "9e50b8a0",
   "metadata": {},
   "outputs": [
    {
     "name": "stdout",
     "output_type": "stream",
     "text": [
      "3393385\n"
     ]
    }
   ],
   "source": [
    "print(len(df_in))"
   ]
  },
  {
   "cell_type": "code",
   "execution_count": 32,
   "id": "9ea331a2",
   "metadata": {},
   "outputs": [
    {
     "data": {
      "text/html": [
       "<div>\n",
       "<style scoped>\n",
       "    .dataframe tbody tr th:only-of-type {\n",
       "        vertical-align: middle;\n",
       "    }\n",
       "\n",
       "    .dataframe tbody tr th {\n",
       "        vertical-align: top;\n",
       "    }\n",
       "\n",
       "    .dataframe thead th {\n",
       "        text-align: right;\n",
       "    }\n",
       "</style>\n",
       "<table border=\"1\" class=\"dataframe\">\n",
       "  <thead>\n",
       "    <tr style=\"text-align: right;\">\n",
       "      <th></th>\n",
       "      <th>dt</th>\n",
       "      <th>HIC_antibodies</th>\n",
       "      <th>HIV</th>\n",
       "      <th>HbsAg</th>\n",
       "      <th>Age</th>\n",
       "      <th>Hc_u</th>\n",
       "      <th>Procedure</th>\n",
       "      <th>r_f_d</th>\n",
       "      <th>State</th>\n",
       "      <th>u_red_r</th>\n",
       "      <th>v_f_amount</th>\n",
       "      <th>Vlm</th>\n",
       "      <th>label</th>\n",
       "      <th>p_id</th>\n",
       "    </tr>\n",
       "  </thead>\n",
       "  <tbody>\n",
       "    <tr>\n",
       "      <th>0</th>\n",
       "      <td>201003</td>\n",
       "      <td>0</td>\n",
       "      <td>0</td>\n",
       "      <td>0</td>\n",
       "      <td>28</td>\n",
       "      <td>db56c1be4286df45</td>\n",
       "      <td>305010107</td>\n",
       "      <td>21</td>\n",
       "      <td>PR</td>\n",
       "      <td>65.0</td>\n",
       "      <td>0.0</td>\n",
       "      <td>0.0</td>\n",
       "      <td>N180</td>\n",
       "      <td>37378</td>\n",
       "    </tr>\n",
       "    <tr>\n",
       "      <th>1</th>\n",
       "      <td>200903</td>\n",
       "      <td>0</td>\n",
       "      <td>0</td>\n",
       "      <td>0</td>\n",
       "      <td>27</td>\n",
       "      <td>db56c1be4286df45</td>\n",
       "      <td>305010107</td>\n",
       "      <td>21</td>\n",
       "      <td>PR</td>\n",
       "      <td>57.0</td>\n",
       "      <td>0.0</td>\n",
       "      <td>0.0</td>\n",
       "      <td>N180</td>\n",
       "      <td>37378</td>\n",
       "    </tr>\n",
       "    <tr>\n",
       "      <th>2</th>\n",
       "      <td>201102</td>\n",
       "      <td>0</td>\n",
       "      <td>0</td>\n",
       "      <td>0</td>\n",
       "      <td>29</td>\n",
       "      <td>db56c1be4286df45</td>\n",
       "      <td>305010107</td>\n",
       "      <td>21</td>\n",
       "      <td>PR</td>\n",
       "      <td>66.0</td>\n",
       "      <td>0.0</td>\n",
       "      <td>0.0</td>\n",
       "      <td>N180</td>\n",
       "      <td>37378</td>\n",
       "    </tr>\n",
       "    <tr>\n",
       "      <th>3</th>\n",
       "      <td>200806</td>\n",
       "      <td>0</td>\n",
       "      <td>0</td>\n",
       "      <td>0</td>\n",
       "      <td>26</td>\n",
       "      <td>db56c1be4286df45</td>\n",
       "      <td>305010107</td>\n",
       "      <td>21</td>\n",
       "      <td>PR</td>\n",
       "      <td>70.0</td>\n",
       "      <td>0.0</td>\n",
       "      <td>0.0</td>\n",
       "      <td>N180</td>\n",
       "      <td>37378</td>\n",
       "    </tr>\n",
       "    <tr>\n",
       "      <th>4</th>\n",
       "      <td>201009</td>\n",
       "      <td>0</td>\n",
       "      <td>0</td>\n",
       "      <td>0</td>\n",
       "      <td>28</td>\n",
       "      <td>db56c1be4286df45</td>\n",
       "      <td>305010107</td>\n",
       "      <td>21</td>\n",
       "      <td>PR</td>\n",
       "      <td>56.0</td>\n",
       "      <td>0.0</td>\n",
       "      <td>0.0</td>\n",
       "      <td>N180</td>\n",
       "      <td>37378</td>\n",
       "    </tr>\n",
       "  </tbody>\n",
       "</table>\n",
       "</div>"
      ],
      "text/plain": [
       "       dt  HIC_antibodies  HIV  HbsAg  Age              Hc_u  Procedure  \\\n",
       "0  201003               0    0      0   28  db56c1be4286df45  305010107   \n",
       "1  200903               0    0      0   27  db56c1be4286df45  305010107   \n",
       "2  201102               0    0      0   29  db56c1be4286df45  305010107   \n",
       "3  200806               0    0      0   26  db56c1be4286df45  305010107   \n",
       "4  201009               0    0      0   28  db56c1be4286df45  305010107   \n",
       "\n",
       "   r_f_d State  u_red_r  v_f_amount  Vlm label   p_id  \n",
       "0     21    PR     65.0         0.0  0.0  N180  37378  \n",
       "1     21    PR     57.0         0.0  0.0  N180  37378  \n",
       "2     21    PR     66.0         0.0  0.0  N180  37378  \n",
       "3     21    PR     70.0         0.0  0.0  N180  37378  \n",
       "4     21    PR     56.0         0.0  0.0  N180  37378  "
      ]
     },
     "execution_count": 32,
     "metadata": {},
     "output_type": "execute_result"
    }
   ],
   "source": [
    "df_in.head()"
   ]
  },
  {
   "cell_type": "markdown",
   "id": "e8b3d46e",
   "metadata": {},
   "source": [
    "### Saving interpolated data and helper method to load data from the file and inspect data"
   ]
  },
  {
   "cell_type": "code",
   "execution_count": 33,
   "id": "8988d420",
   "metadata": {},
   "outputs": [],
   "source": [
    "# df_in.to_csv(\"processed-data/data-interpolated.csv.gz\", compression=\"gzip\")"
   ]
  },
  {
   "cell_type": "code",
   "execution_count": 55,
   "id": "de5eef46",
   "metadata": {},
   "outputs": [],
   "source": [
    "def load_csv(file_name):\n",
    "    df_s_in = pd.read_csv(file_name)\n",
    "    print(df_s_in.columns)\n",
    "    return df_s_in.drop([\"Unnamed: 0\"], axis=1)"
   ]
  },
  {
   "cell_type": "code",
   "execution_count": 57,
   "id": "073a8b77",
   "metadata": {},
   "outputs": [
    {
     "name": "stdout",
     "output_type": "stream",
     "text": [
      "Index(['Unnamed: 0', 'dt', 'HIC_antibodies', 'HIV', 'HbsAg', 'Age', 'Hc_u',\n",
      "       'Procedure', 'r_f_d', 'State', 'u_red_r', 'v_f_amount', 'Vlm', 'label',\n",
      "       'p_id'],\n",
      "      dtype='object')\n"
     ]
    }
   ],
   "source": [
    "df_in = load_csv(\"processed-data/data-interpolated.csv.gz\")"
   ]
  },
  {
   "cell_type": "code",
   "execution_count": 36,
   "id": "87cbb7e4",
   "metadata": {},
   "outputs": [
    {
     "data": {
      "text/plain": [
       "3393385"
      ]
     },
     "execution_count": 36,
     "metadata": {},
     "output_type": "execute_result"
    }
   ],
   "source": [
    "len(df_in)"
   ]
  },
  {
   "cell_type": "code",
   "execution_count": 37,
   "id": "12ff9ebd",
   "metadata": {},
   "outputs": [
    {
     "data": {
      "text/html": [
       "<div>\n",
       "<style scoped>\n",
       "    .dataframe tbody tr th:only-of-type {\n",
       "        vertical-align: middle;\n",
       "    }\n",
       "\n",
       "    .dataframe tbody tr th {\n",
       "        vertical-align: top;\n",
       "    }\n",
       "\n",
       "    .dataframe thead th {\n",
       "        text-align: right;\n",
       "    }\n",
       "</style>\n",
       "<table border=\"1\" class=\"dataframe\">\n",
       "  <thead>\n",
       "    <tr style=\"text-align: right;\">\n",
       "      <th></th>\n",
       "      <th>dt</th>\n",
       "      <th>HIC_antibodies</th>\n",
       "      <th>HIV</th>\n",
       "      <th>HbsAg</th>\n",
       "      <th>Age</th>\n",
       "      <th>Hc_u</th>\n",
       "      <th>Procedure</th>\n",
       "      <th>r_f_d</th>\n",
       "      <th>State</th>\n",
       "      <th>u_red_r</th>\n",
       "      <th>v_f_amount</th>\n",
       "      <th>Vlm</th>\n",
       "      <th>label</th>\n",
       "      <th>p_id</th>\n",
       "    </tr>\n",
       "  </thead>\n",
       "  <tbody>\n",
       "    <tr>\n",
       "      <th>0</th>\n",
       "      <td>201003</td>\n",
       "      <td>0</td>\n",
       "      <td>0</td>\n",
       "      <td>0</td>\n",
       "      <td>28</td>\n",
       "      <td>db56c1be4286df45</td>\n",
       "      <td>305010107</td>\n",
       "      <td>21</td>\n",
       "      <td>PR</td>\n",
       "      <td>65.0</td>\n",
       "      <td>0.0</td>\n",
       "      <td>0.0</td>\n",
       "      <td>N180</td>\n",
       "      <td>37378</td>\n",
       "    </tr>\n",
       "    <tr>\n",
       "      <th>1</th>\n",
       "      <td>200903</td>\n",
       "      <td>0</td>\n",
       "      <td>0</td>\n",
       "      <td>0</td>\n",
       "      <td>27</td>\n",
       "      <td>db56c1be4286df45</td>\n",
       "      <td>305010107</td>\n",
       "      <td>21</td>\n",
       "      <td>PR</td>\n",
       "      <td>57.0</td>\n",
       "      <td>0.0</td>\n",
       "      <td>0.0</td>\n",
       "      <td>N180</td>\n",
       "      <td>37378</td>\n",
       "    </tr>\n",
       "    <tr>\n",
       "      <th>2</th>\n",
       "      <td>201102</td>\n",
       "      <td>0</td>\n",
       "      <td>0</td>\n",
       "      <td>0</td>\n",
       "      <td>29</td>\n",
       "      <td>db56c1be4286df45</td>\n",
       "      <td>305010107</td>\n",
       "      <td>21</td>\n",
       "      <td>PR</td>\n",
       "      <td>66.0</td>\n",
       "      <td>0.0</td>\n",
       "      <td>0.0</td>\n",
       "      <td>N180</td>\n",
       "      <td>37378</td>\n",
       "    </tr>\n",
       "    <tr>\n",
       "      <th>3</th>\n",
       "      <td>200806</td>\n",
       "      <td>0</td>\n",
       "      <td>0</td>\n",
       "      <td>0</td>\n",
       "      <td>26</td>\n",
       "      <td>db56c1be4286df45</td>\n",
       "      <td>305010107</td>\n",
       "      <td>21</td>\n",
       "      <td>PR</td>\n",
       "      <td>70.0</td>\n",
       "      <td>0.0</td>\n",
       "      <td>0.0</td>\n",
       "      <td>N180</td>\n",
       "      <td>37378</td>\n",
       "    </tr>\n",
       "    <tr>\n",
       "      <th>4</th>\n",
       "      <td>201009</td>\n",
       "      <td>0</td>\n",
       "      <td>0</td>\n",
       "      <td>0</td>\n",
       "      <td>28</td>\n",
       "      <td>db56c1be4286df45</td>\n",
       "      <td>305010107</td>\n",
       "      <td>21</td>\n",
       "      <td>PR</td>\n",
       "      <td>56.0</td>\n",
       "      <td>0.0</td>\n",
       "      <td>0.0</td>\n",
       "      <td>N180</td>\n",
       "      <td>37378</td>\n",
       "    </tr>\n",
       "  </tbody>\n",
       "</table>\n",
       "</div>"
      ],
      "text/plain": [
       "       dt  HIC_antibodies  HIV  HbsAg  Age              Hc_u  Procedure  \\\n",
       "0  201003               0    0      0   28  db56c1be4286df45  305010107   \n",
       "1  200903               0    0      0   27  db56c1be4286df45  305010107   \n",
       "2  201102               0    0      0   29  db56c1be4286df45  305010107   \n",
       "3  200806               0    0      0   26  db56c1be4286df45  305010107   \n",
       "4  201009               0    0      0   28  db56c1be4286df45  305010107   \n",
       "\n",
       "   r_f_d State  u_red_r  v_f_amount  Vlm label   p_id  \n",
       "0     21    PR     65.0         0.0  0.0  N180  37378  \n",
       "1     21    PR     57.0         0.0  0.0  N180  37378  \n",
       "2     21    PR     66.0         0.0  0.0  N180  37378  \n",
       "3     21    PR     70.0         0.0  0.0  N180  37378  \n",
       "4     21    PR     56.0         0.0  0.0  N180  37378  "
      ]
     },
     "execution_count": 37,
     "metadata": {},
     "output_type": "execute_result"
    }
   ],
   "source": [
    "df_in.head()"
   ]
  },
  {
   "cell_type": "code",
   "execution_count": 38,
   "id": "0e955d70",
   "metadata": {},
   "outputs": [],
   "source": [
    "def get_patient_data(df, p_id):\n",
    "    return df[df[\"p_id\"] == p_id]"
   ]
  },
  {
   "cell_type": "code",
   "execution_count": 39,
   "id": "17dd0c84",
   "metadata": {},
   "outputs": [
    {
     "data": {
      "text/html": [
       "<div>\n",
       "<style scoped>\n",
       "    .dataframe tbody tr th:only-of-type {\n",
       "        vertical-align: middle;\n",
       "    }\n",
       "\n",
       "    .dataframe tbody tr th {\n",
       "        vertical-align: top;\n",
       "    }\n",
       "\n",
       "    .dataframe thead th {\n",
       "        text-align: right;\n",
       "    }\n",
       "</style>\n",
       "<table border=\"1\" class=\"dataframe\">\n",
       "  <thead>\n",
       "    <tr style=\"text-align: right;\">\n",
       "      <th></th>\n",
       "      <th>dt</th>\n",
       "      <th>HIC_antibodies</th>\n",
       "      <th>HIV</th>\n",
       "      <th>HbsAg</th>\n",
       "      <th>Age</th>\n",
       "      <th>Hc_u</th>\n",
       "      <th>Procedure</th>\n",
       "      <th>r_f_d</th>\n",
       "      <th>State</th>\n",
       "      <th>u_red_r</th>\n",
       "      <th>v_f_amount</th>\n",
       "      <th>Vlm</th>\n",
       "      <th>label</th>\n",
       "      <th>p_id</th>\n",
       "    </tr>\n",
       "  </thead>\n",
       "  <tbody>\n",
       "    <tr>\n",
       "      <th>1922</th>\n",
       "      <td>201011</td>\n",
       "      <td>0</td>\n",
       "      <td>0</td>\n",
       "      <td>0</td>\n",
       "      <td>55</td>\n",
       "      <td>71d90e835af8b296</td>\n",
       "      <td>305010107</td>\n",
       "      <td>21</td>\n",
       "      <td>MG</td>\n",
       "      <td>59.0</td>\n",
       "      <td>NaN</td>\n",
       "      <td>NaN</td>\n",
       "      <td>N180</td>\n",
       "      <td>1604</td>\n",
       "    </tr>\n",
       "    <tr>\n",
       "      <th>16648</th>\n",
       "      <td>201203</td>\n",
       "      <td>0</td>\n",
       "      <td>0</td>\n",
       "      <td>0</td>\n",
       "      <td>56</td>\n",
       "      <td>71d90e835af8b296</td>\n",
       "      <td>305010107</td>\n",
       "      <td>21</td>\n",
       "      <td>MG</td>\n",
       "      <td>64.0</td>\n",
       "      <td>NaN</td>\n",
       "      <td>NaN</td>\n",
       "      <td>N180</td>\n",
       "      <td>1604</td>\n",
       "    </tr>\n",
       "    <tr>\n",
       "      <th>274194</th>\n",
       "      <td>201110</td>\n",
       "      <td>0</td>\n",
       "      <td>0</td>\n",
       "      <td>0</td>\n",
       "      <td>56</td>\n",
       "      <td>71d90e835af8b296</td>\n",
       "      <td>305010107</td>\n",
       "      <td>21</td>\n",
       "      <td>MG</td>\n",
       "      <td>NaN</td>\n",
       "      <td>NaN</td>\n",
       "      <td>2500.0</td>\n",
       "      <td>N180</td>\n",
       "      <td>1604</td>\n",
       "    </tr>\n",
       "    <tr>\n",
       "      <th>753988</th>\n",
       "      <td>201002</td>\n",
       "      <td>0</td>\n",
       "      <td>0</td>\n",
       "      <td>0</td>\n",
       "      <td>54</td>\n",
       "      <td>71d90e835af8b296</td>\n",
       "      <td>305010107</td>\n",
       "      <td>21</td>\n",
       "      <td>MG</td>\n",
       "      <td>70.0</td>\n",
       "      <td>NaN</td>\n",
       "      <td>NaN</td>\n",
       "      <td>N180</td>\n",
       "      <td>1604</td>\n",
       "    </tr>\n",
       "    <tr>\n",
       "      <th>768198</th>\n",
       "      <td>201106</td>\n",
       "      <td>0</td>\n",
       "      <td>0</td>\n",
       "      <td>0</td>\n",
       "      <td>55</td>\n",
       "      <td>71d90e835af8b296</td>\n",
       "      <td>305010107</td>\n",
       "      <td>21</td>\n",
       "      <td>MG</td>\n",
       "      <td>64.0</td>\n",
       "      <td>NaN</td>\n",
       "      <td>NaN</td>\n",
       "      <td>N180</td>\n",
       "      <td>1604</td>\n",
       "    </tr>\n",
       "  </tbody>\n",
       "</table>\n",
       "</div>"
      ],
      "text/plain": [
       "            dt  HIC_antibodies  HIV  HbsAg  Age              Hc_u  Procedure  \\\n",
       "1922    201011               0    0      0   55  71d90e835af8b296  305010107   \n",
       "16648   201203               0    0      0   56  71d90e835af8b296  305010107   \n",
       "274194  201110               0    0      0   56  71d90e835af8b296  305010107   \n",
       "753988  201002               0    0      0   54  71d90e835af8b296  305010107   \n",
       "768198  201106               0    0      0   55  71d90e835af8b296  305010107   \n",
       "\n",
       "        r_f_d State  u_red_r  v_f_amount     Vlm label  p_id  \n",
       "1922       21    MG     59.0         NaN     NaN  N180  1604  \n",
       "16648      21    MG     64.0         NaN     NaN  N180  1604  \n",
       "274194     21    MG      NaN         NaN  2500.0  N180  1604  \n",
       "753988     21    MG     70.0         NaN     NaN  N180  1604  \n",
       "768198     21    MG     64.0         NaN     NaN  N180  1604  "
      ]
     },
     "execution_count": 39,
     "metadata": {},
     "output_type": "execute_result"
    }
   ],
   "source": [
    "get_patient_data(d_f, 1604).head()"
   ]
  },
  {
   "cell_type": "code",
   "execution_count": 40,
   "id": "77ad8a68",
   "metadata": {},
   "outputs": [
    {
     "data": {
      "text/html": [
       "<div>\n",
       "<style scoped>\n",
       "    .dataframe tbody tr th:only-of-type {\n",
       "        vertical-align: middle;\n",
       "    }\n",
       "\n",
       "    .dataframe tbody tr th {\n",
       "        vertical-align: top;\n",
       "    }\n",
       "\n",
       "    .dataframe thead th {\n",
       "        text-align: right;\n",
       "    }\n",
       "</style>\n",
       "<table border=\"1\" class=\"dataframe\">\n",
       "  <thead>\n",
       "    <tr style=\"text-align: right;\">\n",
       "      <th></th>\n",
       "      <th>dt</th>\n",
       "      <th>HIC_antibodies</th>\n",
       "      <th>HIV</th>\n",
       "      <th>HbsAg</th>\n",
       "      <th>Age</th>\n",
       "      <th>Hc_u</th>\n",
       "      <th>Procedure</th>\n",
       "      <th>r_f_d</th>\n",
       "      <th>State</th>\n",
       "      <th>u_red_r</th>\n",
       "      <th>v_f_amount</th>\n",
       "      <th>Vlm</th>\n",
       "      <th>label</th>\n",
       "      <th>p_id</th>\n",
       "    </tr>\n",
       "  </thead>\n",
       "  <tbody>\n",
       "    <tr>\n",
       "      <th>34265</th>\n",
       "      <td>200911</td>\n",
       "      <td>0</td>\n",
       "      <td>0</td>\n",
       "      <td>0</td>\n",
       "      <td>54</td>\n",
       "      <td>71d90e835af8b296</td>\n",
       "      <td>305010107</td>\n",
       "      <td>21</td>\n",
       "      <td>MG</td>\n",
       "      <td>77.000000</td>\n",
       "      <td>0.0</td>\n",
       "      <td>4041.906961</td>\n",
       "      <td>N180</td>\n",
       "      <td>1604</td>\n",
       "    </tr>\n",
       "    <tr>\n",
       "      <th>34266</th>\n",
       "      <td>201104</td>\n",
       "      <td>0</td>\n",
       "      <td>0</td>\n",
       "      <td>0</td>\n",
       "      <td>55</td>\n",
       "      <td>71d90e835af8b296</td>\n",
       "      <td>305010107</td>\n",
       "      <td>21</td>\n",
       "      <td>MG</td>\n",
       "      <td>145.550534</td>\n",
       "      <td>0.0</td>\n",
       "      <td>2500.000000</td>\n",
       "      <td>N180</td>\n",
       "      <td>1604</td>\n",
       "    </tr>\n",
       "    <tr>\n",
       "      <th>34267</th>\n",
       "      <td>201002</td>\n",
       "      <td>0</td>\n",
       "      <td>0</td>\n",
       "      <td>0</td>\n",
       "      <td>54</td>\n",
       "      <td>71d90e835af8b296</td>\n",
       "      <td>305010107</td>\n",
       "      <td>21</td>\n",
       "      <td>MG</td>\n",
       "      <td>70.000000</td>\n",
       "      <td>0.0</td>\n",
       "      <td>2300.270664</td>\n",
       "      <td>N180</td>\n",
       "      <td>1604</td>\n",
       "    </tr>\n",
       "    <tr>\n",
       "      <th>34268</th>\n",
       "      <td>201011</td>\n",
       "      <td>0</td>\n",
       "      <td>0</td>\n",
       "      <td>0</td>\n",
       "      <td>55</td>\n",
       "      <td>71d90e835af8b296</td>\n",
       "      <td>305010107</td>\n",
       "      <td>21</td>\n",
       "      <td>MG</td>\n",
       "      <td>59.000000</td>\n",
       "      <td>0.0</td>\n",
       "      <td>1925.723634</td>\n",
       "      <td>N180</td>\n",
       "      <td>1604</td>\n",
       "    </tr>\n",
       "    <tr>\n",
       "      <th>34269</th>\n",
       "      <td>200912</td>\n",
       "      <td>0</td>\n",
       "      <td>0</td>\n",
       "      <td>0</td>\n",
       "      <td>54</td>\n",
       "      <td>71d90e835af8b296</td>\n",
       "      <td>305010107</td>\n",
       "      <td>21</td>\n",
       "      <td>MG</td>\n",
       "      <td>70.000000</td>\n",
       "      <td>0.0</td>\n",
       "      <td>3933.364369</td>\n",
       "      <td>N180</td>\n",
       "      <td>1604</td>\n",
       "    </tr>\n",
       "  </tbody>\n",
       "</table>\n",
       "</div>"
      ],
      "text/plain": [
       "           dt  HIC_antibodies  HIV  HbsAg  Age              Hc_u  Procedure  \\\n",
       "34265  200911               0    0      0   54  71d90e835af8b296  305010107   \n",
       "34266  201104               0    0      0   55  71d90e835af8b296  305010107   \n",
       "34267  201002               0    0      0   54  71d90e835af8b296  305010107   \n",
       "34268  201011               0    0      0   55  71d90e835af8b296  305010107   \n",
       "34269  200912               0    0      0   54  71d90e835af8b296  305010107   \n",
       "\n",
       "       r_f_d State     u_red_r  v_f_amount          Vlm label  p_id  \n",
       "34265     21    MG   77.000000         0.0  4041.906961  N180  1604  \n",
       "34266     21    MG  145.550534         0.0  2500.000000  N180  1604  \n",
       "34267     21    MG   70.000000         0.0  2300.270664  N180  1604  \n",
       "34268     21    MG   59.000000         0.0  1925.723634  N180  1604  \n",
       "34269     21    MG   70.000000         0.0  3933.364369  N180  1604  "
      ]
     },
     "execution_count": 40,
     "metadata": {},
     "output_type": "execute_result"
    }
   ],
   "source": [
    "get_patient_data(df_in, 1604).head()"
   ]
  },
  {
   "cell_type": "markdown",
   "id": "82d6817f",
   "metadata": {},
   "source": [
    "### Normalizing data using min-max scaler. \n",
    "Normalizing the following columns across all the patients and visits \n",
    "* Age\n",
    "* Reason for Discharge\n",
    "* Urea Reduction Rate\n",
    "* Venous Fistula Ammount\n",
    "* Volume "
   ]
  },
  {
   "cell_type": "code",
   "execution_count": 41,
   "id": "b1ae8139",
   "metadata": {},
   "outputs": [],
   "source": [
    "def normalize(v):\n",
    "    mm_scaler = preprocessing.MinMaxScaler()\n",
    "    v_scaled = mm_scaler.fit_transform(v)\n",
    "    return v_scaled\n",
    "\n",
    "df_v = df_in.values\n",
    "age_v = df_v[:, 4:5]\n",
    "rfd_v = df_v[:, 7:8]\n",
    "urr_v = df_v[:, 9:10]\n",
    "vfm_v = df_v[:, 10:11]\n",
    "vlm_v = df_v[:, 11:12]\n",
    "\n",
    "df_in[\"Age\"] = normalize(age_v)\n",
    "df_in[\"r_f_d\"] = normalize(rfd_v)\n",
    "df_in[\"u_red_r\"] = normalize(urr_v)\n",
    "df_in[\"v_f_amount\"] = normalize(vfm_v)\n",
    "df_in[\"Vlm\"] = normalize(vlm_v)"
   ]
  },
  {
   "cell_type": "code",
   "execution_count": 42,
   "id": "6ae2b50b",
   "metadata": {},
   "outputs": [
    {
     "data": {
      "text/html": [
       "<div>\n",
       "<style scoped>\n",
       "    .dataframe tbody tr th:only-of-type {\n",
       "        vertical-align: middle;\n",
       "    }\n",
       "\n",
       "    .dataframe tbody tr th {\n",
       "        vertical-align: top;\n",
       "    }\n",
       "\n",
       "    .dataframe thead th {\n",
       "        text-align: right;\n",
       "    }\n",
       "</style>\n",
       "<table border=\"1\" class=\"dataframe\">\n",
       "  <thead>\n",
       "    <tr style=\"text-align: right;\">\n",
       "      <th></th>\n",
       "      <th>dt</th>\n",
       "      <th>HIC_antibodies</th>\n",
       "      <th>HIV</th>\n",
       "      <th>HbsAg</th>\n",
       "      <th>Age</th>\n",
       "      <th>Hc_u</th>\n",
       "      <th>Procedure</th>\n",
       "      <th>r_f_d</th>\n",
       "      <th>State</th>\n",
       "      <th>u_red_r</th>\n",
       "      <th>v_f_amount</th>\n",
       "      <th>Vlm</th>\n",
       "      <th>label</th>\n",
       "      <th>p_id</th>\n",
       "    </tr>\n",
       "  </thead>\n",
       "  <tbody>\n",
       "    <tr>\n",
       "      <th>0</th>\n",
       "      <td>201003</td>\n",
       "      <td>0</td>\n",
       "      <td>0</td>\n",
       "      <td>0</td>\n",
       "      <td>0.3500</td>\n",
       "      <td>db56c1be4286df45</td>\n",
       "      <td>305010107</td>\n",
       "      <td>0.25</td>\n",
       "      <td>PR</td>\n",
       "      <td>0.596637</td>\n",
       "      <td>0.553054</td>\n",
       "      <td>0.297873</td>\n",
       "      <td>N180</td>\n",
       "      <td>37378</td>\n",
       "    </tr>\n",
       "    <tr>\n",
       "      <th>1</th>\n",
       "      <td>200903</td>\n",
       "      <td>0</td>\n",
       "      <td>0</td>\n",
       "      <td>0</td>\n",
       "      <td>0.3375</td>\n",
       "      <td>db56c1be4286df45</td>\n",
       "      <td>305010107</td>\n",
       "      <td>0.25</td>\n",
       "      <td>PR</td>\n",
       "      <td>0.596637</td>\n",
       "      <td>0.553054</td>\n",
       "      <td>0.297873</td>\n",
       "      <td>N180</td>\n",
       "      <td>37378</td>\n",
       "    </tr>\n",
       "    <tr>\n",
       "      <th>2</th>\n",
       "      <td>201102</td>\n",
       "      <td>0</td>\n",
       "      <td>0</td>\n",
       "      <td>0</td>\n",
       "      <td>0.3625</td>\n",
       "      <td>db56c1be4286df45</td>\n",
       "      <td>305010107</td>\n",
       "      <td>0.25</td>\n",
       "      <td>PR</td>\n",
       "      <td>0.596637</td>\n",
       "      <td>0.553054</td>\n",
       "      <td>0.297873</td>\n",
       "      <td>N180</td>\n",
       "      <td>37378</td>\n",
       "    </tr>\n",
       "    <tr>\n",
       "      <th>3</th>\n",
       "      <td>200806</td>\n",
       "      <td>0</td>\n",
       "      <td>0</td>\n",
       "      <td>0</td>\n",
       "      <td>0.3250</td>\n",
       "      <td>db56c1be4286df45</td>\n",
       "      <td>305010107</td>\n",
       "      <td>0.25</td>\n",
       "      <td>PR</td>\n",
       "      <td>0.596637</td>\n",
       "      <td>0.553054</td>\n",
       "      <td>0.297873</td>\n",
       "      <td>N180</td>\n",
       "      <td>37378</td>\n",
       "    </tr>\n",
       "    <tr>\n",
       "      <th>4</th>\n",
       "      <td>201009</td>\n",
       "      <td>0</td>\n",
       "      <td>0</td>\n",
       "      <td>0</td>\n",
       "      <td>0.3500</td>\n",
       "      <td>db56c1be4286df45</td>\n",
       "      <td>305010107</td>\n",
       "      <td>0.25</td>\n",
       "      <td>PR</td>\n",
       "      <td>0.596637</td>\n",
       "      <td>0.553054</td>\n",
       "      <td>0.297873</td>\n",
       "      <td>N180</td>\n",
       "      <td>37378</td>\n",
       "    </tr>\n",
       "  </tbody>\n",
       "</table>\n",
       "</div>"
      ],
      "text/plain": [
       "       dt  HIC_antibodies  HIV  HbsAg     Age              Hc_u  Procedure  \\\n",
       "0  201003               0    0      0  0.3500  db56c1be4286df45  305010107   \n",
       "1  200903               0    0      0  0.3375  db56c1be4286df45  305010107   \n",
       "2  201102               0    0      0  0.3625  db56c1be4286df45  305010107   \n",
       "3  200806               0    0      0  0.3250  db56c1be4286df45  305010107   \n",
       "4  201009               0    0      0  0.3500  db56c1be4286df45  305010107   \n",
       "\n",
       "   r_f_d State   u_red_r  v_f_amount       Vlm label   p_id  \n",
       "0   0.25    PR  0.596637    0.553054  0.297873  N180  37378  \n",
       "1   0.25    PR  0.596637    0.553054  0.297873  N180  37378  \n",
       "2   0.25    PR  0.596637    0.553054  0.297873  N180  37378  \n",
       "3   0.25    PR  0.596637    0.553054  0.297873  N180  37378  \n",
       "4   0.25    PR  0.596637    0.553054  0.297873  N180  37378  "
      ]
     },
     "execution_count": 42,
     "metadata": {},
     "output_type": "execute_result"
    }
   ],
   "source": [
    "df_in.head()"
   ]
  },
  {
   "cell_type": "markdown",
   "id": "df587e27",
   "metadata": {},
   "source": [
    "### One-hot-encoding of \"Procedure\" and \"State\" columns \n",
    "We are not encoding \"Hc_u\" which is the unit identifier. There are over 700 units which is exploding the data. Unit will not have significant impact on the health status of the patient. The column is dropped before picking the final features "
   ]
  },
  {
   "cell_type": "code",
   "execution_count": 43,
   "id": "032996b6",
   "metadata": {},
   "outputs": [],
   "source": [
    "# df_in = pd.get_dummies(df_in, columns=[\"Hc_u\"])\n",
    "df_in = pd.get_dummies(df_in, columns=[\"Procedure\"])\n",
    "df_in = pd.get_dummies(df_in, columns=[\"State\"])"
   ]
  },
  {
   "cell_type": "code",
   "execution_count": 44,
   "id": "fb2e42d3",
   "metadata": {},
   "outputs": [
    {
     "name": "stdout",
     "output_type": "stream",
     "text": [
      "184123\n"
     ]
    }
   ],
   "source": [
    "p_count = len(df_in[\"p_id\"].unique())\n",
    "print(p_count)"
   ]
  },
  {
   "cell_type": "code",
   "execution_count": 45,
   "id": "23d56804",
   "metadata": {},
   "outputs": [
    {
     "data": {
      "text/html": [
       "<div>\n",
       "<style scoped>\n",
       "    .dataframe tbody tr th:only-of-type {\n",
       "        vertical-align: middle;\n",
       "    }\n",
       "\n",
       "    .dataframe tbody tr th {\n",
       "        vertical-align: top;\n",
       "    }\n",
       "\n",
       "    .dataframe thead th {\n",
       "        text-align: right;\n",
       "    }\n",
       "</style>\n",
       "<table border=\"1\" class=\"dataframe\">\n",
       "  <thead>\n",
       "    <tr style=\"text-align: right;\">\n",
       "      <th></th>\n",
       "      <th>dt</th>\n",
       "      <th>HIC_antibodies</th>\n",
       "      <th>HIV</th>\n",
       "      <th>HbsAg</th>\n",
       "      <th>Age</th>\n",
       "      <th>Hc_u</th>\n",
       "      <th>r_f_d</th>\n",
       "      <th>u_red_r</th>\n",
       "      <th>v_f_amount</th>\n",
       "      <th>Vlm</th>\n",
       "      <th>...</th>\n",
       "      <th>State_PR</th>\n",
       "      <th>State_RJ</th>\n",
       "      <th>State_RN</th>\n",
       "      <th>State_RO</th>\n",
       "      <th>State_RR</th>\n",
       "      <th>State_RS</th>\n",
       "      <th>State_SC</th>\n",
       "      <th>State_SE</th>\n",
       "      <th>State_SP</th>\n",
       "      <th>State_TO</th>\n",
       "    </tr>\n",
       "  </thead>\n",
       "  <tbody>\n",
       "    <tr>\n",
       "      <th>0</th>\n",
       "      <td>201003</td>\n",
       "      <td>0</td>\n",
       "      <td>0</td>\n",
       "      <td>0</td>\n",
       "      <td>0.3500</td>\n",
       "      <td>db56c1be4286df45</td>\n",
       "      <td>0.25</td>\n",
       "      <td>0.596637</td>\n",
       "      <td>0.553054</td>\n",
       "      <td>0.297873</td>\n",
       "      <td>...</td>\n",
       "      <td>1</td>\n",
       "      <td>0</td>\n",
       "      <td>0</td>\n",
       "      <td>0</td>\n",
       "      <td>0</td>\n",
       "      <td>0</td>\n",
       "      <td>0</td>\n",
       "      <td>0</td>\n",
       "      <td>0</td>\n",
       "      <td>0</td>\n",
       "    </tr>\n",
       "    <tr>\n",
       "      <th>1</th>\n",
       "      <td>200903</td>\n",
       "      <td>0</td>\n",
       "      <td>0</td>\n",
       "      <td>0</td>\n",
       "      <td>0.3375</td>\n",
       "      <td>db56c1be4286df45</td>\n",
       "      <td>0.25</td>\n",
       "      <td>0.596637</td>\n",
       "      <td>0.553054</td>\n",
       "      <td>0.297873</td>\n",
       "      <td>...</td>\n",
       "      <td>1</td>\n",
       "      <td>0</td>\n",
       "      <td>0</td>\n",
       "      <td>0</td>\n",
       "      <td>0</td>\n",
       "      <td>0</td>\n",
       "      <td>0</td>\n",
       "      <td>0</td>\n",
       "      <td>0</td>\n",
       "      <td>0</td>\n",
       "    </tr>\n",
       "    <tr>\n",
       "      <th>2</th>\n",
       "      <td>201102</td>\n",
       "      <td>0</td>\n",
       "      <td>0</td>\n",
       "      <td>0</td>\n",
       "      <td>0.3625</td>\n",
       "      <td>db56c1be4286df45</td>\n",
       "      <td>0.25</td>\n",
       "      <td>0.596637</td>\n",
       "      <td>0.553054</td>\n",
       "      <td>0.297873</td>\n",
       "      <td>...</td>\n",
       "      <td>1</td>\n",
       "      <td>0</td>\n",
       "      <td>0</td>\n",
       "      <td>0</td>\n",
       "      <td>0</td>\n",
       "      <td>0</td>\n",
       "      <td>0</td>\n",
       "      <td>0</td>\n",
       "      <td>0</td>\n",
       "      <td>0</td>\n",
       "    </tr>\n",
       "    <tr>\n",
       "      <th>3</th>\n",
       "      <td>200806</td>\n",
       "      <td>0</td>\n",
       "      <td>0</td>\n",
       "      <td>0</td>\n",
       "      <td>0.3250</td>\n",
       "      <td>db56c1be4286df45</td>\n",
       "      <td>0.25</td>\n",
       "      <td>0.596637</td>\n",
       "      <td>0.553054</td>\n",
       "      <td>0.297873</td>\n",
       "      <td>...</td>\n",
       "      <td>1</td>\n",
       "      <td>0</td>\n",
       "      <td>0</td>\n",
       "      <td>0</td>\n",
       "      <td>0</td>\n",
       "      <td>0</td>\n",
       "      <td>0</td>\n",
       "      <td>0</td>\n",
       "      <td>0</td>\n",
       "      <td>0</td>\n",
       "    </tr>\n",
       "    <tr>\n",
       "      <th>4</th>\n",
       "      <td>201009</td>\n",
       "      <td>0</td>\n",
       "      <td>0</td>\n",
       "      <td>0</td>\n",
       "      <td>0.3500</td>\n",
       "      <td>db56c1be4286df45</td>\n",
       "      <td>0.25</td>\n",
       "      <td>0.596637</td>\n",
       "      <td>0.553054</td>\n",
       "      <td>0.297873</td>\n",
       "      <td>...</td>\n",
       "      <td>1</td>\n",
       "      <td>0</td>\n",
       "      <td>0</td>\n",
       "      <td>0</td>\n",
       "      <td>0</td>\n",
       "      <td>0</td>\n",
       "      <td>0</td>\n",
       "      <td>0</td>\n",
       "      <td>0</td>\n",
       "      <td>0</td>\n",
       "    </tr>\n",
       "  </tbody>\n",
       "</table>\n",
       "<p>5 rows × 46 columns</p>\n",
       "</div>"
      ],
      "text/plain": [
       "       dt  HIC_antibodies  HIV  HbsAg     Age              Hc_u  r_f_d  \\\n",
       "0  201003               0    0      0  0.3500  db56c1be4286df45   0.25   \n",
       "1  200903               0    0      0  0.3375  db56c1be4286df45   0.25   \n",
       "2  201102               0    0      0  0.3625  db56c1be4286df45   0.25   \n",
       "3  200806               0    0      0  0.3250  db56c1be4286df45   0.25   \n",
       "4  201009               0    0      0  0.3500  db56c1be4286df45   0.25   \n",
       "\n",
       "    u_red_r  v_f_amount       Vlm  ... State_PR  State_RJ  State_RN  State_RO  \\\n",
       "0  0.596637    0.553054  0.297873  ...        1         0         0         0   \n",
       "1  0.596637    0.553054  0.297873  ...        1         0         0         0   \n",
       "2  0.596637    0.553054  0.297873  ...        1         0         0         0   \n",
       "3  0.596637    0.553054  0.297873  ...        1         0         0         0   \n",
       "4  0.596637    0.553054  0.297873  ...        1         0         0         0   \n",
       "\n",
       "   State_RR  State_RS  State_SC  State_SE  State_SP  State_TO  \n",
       "0         0         0         0         0         0         0  \n",
       "1         0         0         0         0         0         0  \n",
       "2         0         0         0         0         0         0  \n",
       "3         0         0         0         0         0         0  \n",
       "4         0         0         0         0         0         0  \n",
       "\n",
       "[5 rows x 46 columns]"
      ]
     },
     "execution_count": 45,
     "metadata": {},
     "output_type": "execute_result"
    }
   ],
   "source": [
    "df_in.head()"
   ]
  },
  {
   "cell_type": "markdown",
   "id": "869a99d8",
   "metadata": {},
   "source": [
    "### Inspecting and clipping visits \n",
    "Visualizing number of visists to determine the optimal number of visits to use. We need to pad the visits so that each patient have the same number of visits. Based on below anaysis, number of visits are clipped to the most recent 40. "
   ]
  },
  {
   "cell_type": "code",
   "execution_count": 46,
   "id": "9421d318",
   "metadata": {},
   "outputs": [],
   "source": [
    "visits_count = df_in.groupby(\"p_id\").count().reset_index()[\"dt\"]"
   ]
  },
  {
   "cell_type": "code",
   "execution_count": 12,
   "id": "89d27d70",
   "metadata": {
    "scrolled": false
   },
   "outputs": [
    {
     "data": {
      "text/plain": [
       "Text(0, 0.5, 'visits')"
      ]
     },
     "execution_count": 12,
     "metadata": {},
     "output_type": "execute_result"
    },
    {
     "data": {
      "image/png": "[encoded data removed]",
      "text/plain": [
       "<Figure size 1584x1152 with 1 Axes>"
      ]
     },
     "metadata": {
      "needs_background": "light"
     },
     "output_type": "display_data"
    }
   ],
   "source": [
    "# # This take really long time to plot. Just keeping it commented out to avoid any accidental runs\n",
    "# ax = visits_count.plot(x ='index', y='dt', kind = 'bar', figsize=(22, 16))\n",
    "# ax.set_xlabel(\"patient\")\n",
    "# ax.set_ylabel(\"visits\")"
   ]
  },
  {
   "cell_type": "code",
   "execution_count": 47,
   "id": "c600ab6d",
   "metadata": {},
   "outputs": [
    {
     "name": "stdout",
     "output_type": "stream",
     "text": [
      "99\n"
     ]
    }
   ],
   "source": [
    "v_size = visits_count.max()\n",
    "print(v_size)"
   ]
  },
  {
   "cell_type": "code",
   "execution_count": 48,
   "id": "8b86966d",
   "metadata": {},
   "outputs": [
    {
     "data": {
      "text/plain": [
       "(3393385, 46)"
      ]
     },
     "execution_count": 48,
     "metadata": {},
     "output_type": "execute_result"
    }
   ],
   "source": [
    "df_in.shape"
   ]
  },
  {
   "cell_type": "code",
   "execution_count": 49,
   "id": "7581421d",
   "metadata": {},
   "outputs": [],
   "source": [
    "df_in = df_in.drop(['dt', 'Hc_u'], axis=1)"
   ]
  },
  {
   "cell_type": "code",
   "execution_count": 64,
   "id": "69c25bf9",
   "metadata": {},
   "outputs": [
    {
     "name": "stdout",
     "output_type": "stream",
     "text": [
      "44\n"
     ]
    }
   ],
   "source": [
    "n_features = df_in.shape[1]\n",
    "print(n_features)"
   ]
  },
  {
   "cell_type": "code",
   "execution_count": 65,
   "id": "21e2a7a1",
   "metadata": {},
   "outputs": [],
   "source": [
    "v_size_clipped = 40"
   ]
  },
  {
   "cell_type": "markdown",
   "id": "a5448f43",
   "metadata": {},
   "source": [
    "#### At this point we have completed the normlization. Saving data to csv to reuse later "
   ]
  },
  {
   "cell_type": "code",
   "execution_count": 53,
   "id": "3c8274e3",
   "metadata": {},
   "outputs": [],
   "source": [
    "# df_in.to_csv(\"processed-data/data-normlized.csv.gz\", compression=\"gzip\")"
   ]
  },
  {
   "cell_type": "code",
   "execution_count": 69,
   "id": "b6ec3f46",
   "metadata": {},
   "outputs": [
    {
     "name": "stdout",
     "output_type": "stream",
     "text": [
      "Index(['Unnamed: 0', 'HIC_antibodies', 'HIV', 'HbsAg', 'Age', 'r_f_d',\n",
      "       'u_red_r', 'v_f_amount', 'Vlm', 'label', 'p_id', 'Procedure_305010026',\n",
      "       'Procedure_305010069', 'Procedure_305010085', 'Procedure_305010107',\n",
      "       'Procedure_305010115', 'Procedure_305010166', 'Procedure_305010182',\n",
      "       'State_AC', 'State_AL', 'State_AM', 'State_AP', 'State_BA', 'State_CE',\n",
      "       'State_DF', 'State_ES', 'State_GO', 'State_MA', 'State_MG', 'State_MS',\n",
      "       'State_MT', 'State_PA', 'State_PB', 'State_PE', 'State_PI', 'State_PR',\n",
      "       'State_RJ', 'State_RN', 'State_RO', 'State_RR', 'State_RS', 'State_SC',\n",
      "       'State_SE', 'State_SP', 'State_TO'],\n",
      "      dtype='object')\n"
     ]
    }
   ],
   "source": [
    "df_in = load_csv(\"processed-data/data-normlized.csv.gz\")"
   ]
  },
  {
   "cell_type": "markdown",
   "id": "d82725e5",
   "metadata": {},
   "source": [
    "### Padding visits for the patients to make sure all the patients have same number of visits. \n",
    "We are dropping patient id (p_id) and target label (label) in the process. So, reducing the feature count by 2.\n",
    "\n",
    "After this process, we have 184123 patients with 40 visits and 42 features for each visit. "
   ]
  },
  {
   "cell_type": "code",
   "execution_count": 70,
   "id": "a137a09c",
   "metadata": {},
   "outputs": [],
   "source": [
    "v_features = n_features - 2\n",
    "X = np.zeros((p_count, v_size_clipped, v_features))\n",
    "Y = []\n",
    "for idx, p_id in enumerate(df_in[\"p_id\"].unique()):\n",
    "    p_v = df_in[(df_in[\"p_id\"] == p_id)]\n",
    "    p_y = list(p_v['label'])[-1]\n",
    "    p_x = p_v.drop(['p_id', 'label'], axis=1).to_numpy()\n",
    "    pad_len = v_size_clipped - len(p_x)\n",
    "    if pad_len > 0:\n",
    "        pad_arr = np.zeros((pad_len, v_features))\n",
    "        p_x = np.vstack([p_x, pad_arr])\n",
    "    else:\n",
    "        p_x = p_x[-v_size_clipped:]\n",
    "    X[idx] = p_x\n",
    "    Y.append(p_y)"
   ]
  },
  {
   "cell_type": "code",
   "execution_count": 71,
   "id": "20c16b45",
   "metadata": {},
   "outputs": [
    {
     "name": "stdout",
     "output_type": "stream",
     "text": [
      "184123\n",
      "184123\n",
      "{'N039', 'N189', 'N088', 'I120', 'E142', 'N083', 'E102', 'N188', 'N180', 'I10'}\n"
     ]
    }
   ],
   "source": [
    "print(len(Y))\n",
    "print(len(X))\n",
    "print(set(Y))"
   ]
  },
  {
   "cell_type": "code",
   "execution_count": 72,
   "id": "d0021834",
   "metadata": {},
   "outputs": [
    {
     "name": "stdout",
     "output_type": "stream",
     "text": [
      "(184123, 40, 42)\n",
      "184123\n"
     ]
    }
   ],
   "source": [
    "print(X.shape)\n",
    "print(len(Y))"
   ]
  },
  {
   "cell_type": "markdown",
   "id": "5e8be749",
   "metadata": {},
   "source": [
    "### Saving the final padded data and the target labels. "
   ]
  },
  {
   "cell_type": "code",
   "execution_count": 73,
   "id": "dadb6a14",
   "metadata": {},
   "outputs": [],
   "source": [
    "# torch.save(X, \"processed-data/p_x.pt\")\n",
    "# torch.save(Y, \"processed-data/p_y.pt\")"
   ]
  },
  {
   "cell_type": "markdown",
   "id": "4205271d",
   "metadata": {},
   "source": [
    "### Number of patients in each target class"
   ]
  },
  {
   "cell_type": "code",
   "execution_count": 74,
   "id": "64f758b5",
   "metadata": {},
   "outputs": [
    {
     "name": "stdout",
     "output_type": "stream",
     "text": [
      "N039: 316\n",
      "N189: 2690\n",
      "N088: 129\n",
      "I120: 1189\n",
      "E142: 178\n",
      "N083: 314\n",
      "E102: 100\n",
      "N188: 307\n",
      "N180: 178540\n",
      "I10: 360\n"
     ]
    }
   ],
   "source": [
    "for l in set(Y):\n",
    "    print(f\"{l}:\", len(np.where(np.array(Y) == l)[0]))"
   ]
  },
  {
   "cell_type": "markdown",
   "id": "1a952fc3",
   "metadata": {},
   "source": [
    "### One hot encoding target labels"
   ]
  },
  {
   "cell_type": "code",
   "execution_count": 75,
   "id": "fb4a7046",
   "metadata": {},
   "outputs": [],
   "source": [
    "y_labels = list(set(Y))\n",
    "Y_oh = np.zeros((len(Y), len(y_labels)))\n",
    "for idx, y in enumerate(Y):\n",
    "    Y_oh[idx][y_labels.index(y)] = 1"
   ]
  },
  {
   "cell_type": "code",
   "execution_count": 76,
   "id": "d4551dac",
   "metadata": {},
   "outputs": [
    {
     "name": "stdout",
     "output_type": "stream",
     "text": [
      "(184123, 10)\n"
     ]
    },
    {
     "data": {
      "text/plain": [
       "array([[0., 0., 0., ..., 0., 1., 0.],\n",
       "       [0., 0., 0., ..., 0., 1., 0.],\n",
       "       [0., 0., 0., ..., 0., 1., 0.],\n",
       "       ...,\n",
       "       [0., 0., 0., ..., 0., 1., 0.],\n",
       "       [0., 0., 0., ..., 0., 1., 0.],\n",
       "       [0., 0., 0., ..., 0., 1., 0.]])"
      ]
     },
     "execution_count": 76,
     "metadata": {},
     "output_type": "execute_result"
    }
   ],
   "source": [
    "print(Y_oh.shape)\n",
    "Y_oh"
   ]
  },
  {
   "cell_type": "markdown",
   "id": "d1f40157",
   "metadata": {},
   "source": [
    "### Saving one hot encoded labels. "
   ]
  },
  {
   "cell_type": "code",
   "execution_count": 77,
   "id": "2cefb296",
   "metadata": {},
   "outputs": [],
   "source": [
    "# torch.save(Y_oh, \"processed-data/p_y_oh.pt\")"
   ]
  },
  {
   "cell_type": "code",
   "execution_count": null,
   "id": "f274b200",
   "metadata": {},
   "outputs": [],
   "source": []
  }
 ],
 "metadata": {
  "kernelspec": {
   "display_name": "py3.7-cs",
   "language": "python",
   "name": "py3.7-cs"
  },
  "language_info": {
   "codemirror_mode": {
    "name": "ipython",
    "version": 3
   },
   "file_extension": ".py",
   "mimetype": "text/x-python",
   "name": "python",
   "nbconvert_exporter": "python",
   "pygments_lexer": "ipython3",
   "version": "3.7.4"
  }
 },
 "nbformat": 4,
 "nbformat_minor": 5
}

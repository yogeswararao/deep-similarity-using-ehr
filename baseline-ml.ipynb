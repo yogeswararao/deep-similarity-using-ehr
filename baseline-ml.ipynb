{
 "cells": [
  {
   "cell_type": "markdown",
   "id": "ede6a407",
   "metadata": {},
   "source": [
    "## !!! Baseline ML models !!!"
   ]
  },
  {
   "cell_type": "code",
   "execution_count": 1,
   "id": "100f8317",
   "metadata": {},
   "outputs": [],
   "source": [
    "import numpy as np\n",
    "import pandas as pd"
   ]
  },
  {
   "cell_type": "markdown",
   "id": "b73ca386",
   "metadata": {},
   "source": [
    "### Loading data\n",
    "* Using normalized data from the pre-processing step.\n",
    "* Target classes are encoded using lable encoding"
   ]
  },
  {
   "cell_type": "code",
   "execution_count": 2,
   "id": "7fe9ee8f",
   "metadata": {},
   "outputs": [],
   "source": [
    "d_f = pd.read_csv(\"processed-data/data-normlized.csv.gz\")\n",
    "d_f = d_f.drop([\"Unnamed: 0\"], axis=1)"
   ]
  },
  {
   "cell_type": "code",
   "execution_count": 3,
   "id": "c5d2ceff",
   "metadata": {},
   "outputs": [
    {
     "data": {
      "text/html": [
       "<div>\n",
       "<style scoped>\n",
       "    .dataframe tbody tr th:only-of-type {\n",
       "        vertical-align: middle;\n",
       "    }\n",
       "\n",
       "    .dataframe tbody tr th {\n",
       "        vertical-align: top;\n",
       "    }\n",
       "\n",
       "    .dataframe thead th {\n",
       "        text-align: right;\n",
       "    }\n",
       "</style>\n",
       "<table border=\"1\" class=\"dataframe\">\n",
       "  <thead>\n",
       "    <tr style=\"text-align: right;\">\n",
       "      <th></th>\n",
       "      <th>HIC_antibodies</th>\n",
       "      <th>HIV</th>\n",
       "      <th>HbsAg</th>\n",
       "      <th>Age</th>\n",
       "      <th>r_f_d</th>\n",
       "      <th>u_red_r</th>\n",
       "      <th>v_f_amount</th>\n",
       "      <th>Vlm</th>\n",
       "      <th>label</th>\n",
       "      <th>p_id</th>\n",
       "      <th>...</th>\n",
       "      <th>State_PR</th>\n",
       "      <th>State_RJ</th>\n",
       "      <th>State_RN</th>\n",
       "      <th>State_RO</th>\n",
       "      <th>State_RR</th>\n",
       "      <th>State_RS</th>\n",
       "      <th>State_SC</th>\n",
       "      <th>State_SE</th>\n",
       "      <th>State_SP</th>\n",
       "      <th>State_TO</th>\n",
       "    </tr>\n",
       "  </thead>\n",
       "  <tbody>\n",
       "    <tr>\n",
       "      <th>0</th>\n",
       "      <td>0</td>\n",
       "      <td>0</td>\n",
       "      <td>0</td>\n",
       "      <td>0.3500</td>\n",
       "      <td>0.25</td>\n",
       "      <td>0.596637</td>\n",
       "      <td>0.553054</td>\n",
       "      <td>0.297873</td>\n",
       "      <td>N180</td>\n",
       "      <td>37378</td>\n",
       "      <td>...</td>\n",
       "      <td>1</td>\n",
       "      <td>0</td>\n",
       "      <td>0</td>\n",
       "      <td>0</td>\n",
       "      <td>0</td>\n",
       "      <td>0</td>\n",
       "      <td>0</td>\n",
       "      <td>0</td>\n",
       "      <td>0</td>\n",
       "      <td>0</td>\n",
       "    </tr>\n",
       "    <tr>\n",
       "      <th>1</th>\n",
       "      <td>0</td>\n",
       "      <td>0</td>\n",
       "      <td>0</td>\n",
       "      <td>0.3375</td>\n",
       "      <td>0.25</td>\n",
       "      <td>0.596637</td>\n",
       "      <td>0.553054</td>\n",
       "      <td>0.297873</td>\n",
       "      <td>N180</td>\n",
       "      <td>37378</td>\n",
       "      <td>...</td>\n",
       "      <td>1</td>\n",
       "      <td>0</td>\n",
       "      <td>0</td>\n",
       "      <td>0</td>\n",
       "      <td>0</td>\n",
       "      <td>0</td>\n",
       "      <td>0</td>\n",
       "      <td>0</td>\n",
       "      <td>0</td>\n",
       "      <td>0</td>\n",
       "    </tr>\n",
       "    <tr>\n",
       "      <th>2</th>\n",
       "      <td>0</td>\n",
       "      <td>0</td>\n",
       "      <td>0</td>\n",
       "      <td>0.3625</td>\n",
       "      <td>0.25</td>\n",
       "      <td>0.596637</td>\n",
       "      <td>0.553054</td>\n",
       "      <td>0.297873</td>\n",
       "      <td>N180</td>\n",
       "      <td>37378</td>\n",
       "      <td>...</td>\n",
       "      <td>1</td>\n",
       "      <td>0</td>\n",
       "      <td>0</td>\n",
       "      <td>0</td>\n",
       "      <td>0</td>\n",
       "      <td>0</td>\n",
       "      <td>0</td>\n",
       "      <td>0</td>\n",
       "      <td>0</td>\n",
       "      <td>0</td>\n",
       "    </tr>\n",
       "    <tr>\n",
       "      <th>3</th>\n",
       "      <td>0</td>\n",
       "      <td>0</td>\n",
       "      <td>0</td>\n",
       "      <td>0.3250</td>\n",
       "      <td>0.25</td>\n",
       "      <td>0.596637</td>\n",
       "      <td>0.553054</td>\n",
       "      <td>0.297873</td>\n",
       "      <td>N180</td>\n",
       "      <td>37378</td>\n",
       "      <td>...</td>\n",
       "      <td>1</td>\n",
       "      <td>0</td>\n",
       "      <td>0</td>\n",
       "      <td>0</td>\n",
       "      <td>0</td>\n",
       "      <td>0</td>\n",
       "      <td>0</td>\n",
       "      <td>0</td>\n",
       "      <td>0</td>\n",
       "      <td>0</td>\n",
       "    </tr>\n",
       "    <tr>\n",
       "      <th>4</th>\n",
       "      <td>0</td>\n",
       "      <td>0</td>\n",
       "      <td>0</td>\n",
       "      <td>0.3500</td>\n",
       "      <td>0.25</td>\n",
       "      <td>0.596637</td>\n",
       "      <td>0.553054</td>\n",
       "      <td>0.297873</td>\n",
       "      <td>N180</td>\n",
       "      <td>37378</td>\n",
       "      <td>...</td>\n",
       "      <td>1</td>\n",
       "      <td>0</td>\n",
       "      <td>0</td>\n",
       "      <td>0</td>\n",
       "      <td>0</td>\n",
       "      <td>0</td>\n",
       "      <td>0</td>\n",
       "      <td>0</td>\n",
       "      <td>0</td>\n",
       "      <td>0</td>\n",
       "    </tr>\n",
       "  </tbody>\n",
       "</table>\n",
       "<p>5 rows × 44 columns</p>\n",
       "</div>"
      ],
      "text/plain": [
       "   HIC_antibodies  HIV  HbsAg     Age  r_f_d   u_red_r  v_f_amount       Vlm  \\\n",
       "0               0    0      0  0.3500   0.25  0.596637    0.553054  0.297873   \n",
       "1               0    0      0  0.3375   0.25  0.596637    0.553054  0.297873   \n",
       "2               0    0      0  0.3625   0.25  0.596637    0.553054  0.297873   \n",
       "3               0    0      0  0.3250   0.25  0.596637    0.553054  0.297873   \n",
       "4               0    0      0  0.3500   0.25  0.596637    0.553054  0.297873   \n",
       "\n",
       "  label   p_id  ...  State_PR  State_RJ  State_RN  State_RO  State_RR  \\\n",
       "0  N180  37378  ...         1         0         0         0         0   \n",
       "1  N180  37378  ...         1         0         0         0         0   \n",
       "2  N180  37378  ...         1         0         0         0         0   \n",
       "3  N180  37378  ...         1         0         0         0         0   \n",
       "4  N180  37378  ...         1         0         0         0         0   \n",
       "\n",
       "   State_RS  State_SC  State_SE  State_SP  State_TO  \n",
       "0         0         0         0         0         0  \n",
       "1         0         0         0         0         0  \n",
       "2         0         0         0         0         0  \n",
       "3         0         0         0         0         0  \n",
       "4         0         0         0         0         0  \n",
       "\n",
       "[5 rows x 44 columns]"
      ]
     },
     "execution_count": 3,
     "metadata": {},
     "output_type": "execute_result"
    }
   ],
   "source": [
    "d_f.head()"
   ]
  },
  {
   "cell_type": "code",
   "execution_count": 4,
   "id": "350816ce",
   "metadata": {},
   "outputs": [],
   "source": [
    "import warnings\n",
    "warnings.filterwarnings(\"ignore\")\n",
    "\n",
    "d_f[\"label\"] = d_f[\"label\"].astype('category')\n",
    "d_f[\"label_cat\"] = d_f[\"label\"].cat.codes"
   ]
  },
  {
   "cell_type": "code",
   "execution_count": 5,
   "id": "9802f556",
   "metadata": {},
   "outputs": [
    {
     "data": {
      "text/html": [
       "<div>\n",
       "<style scoped>\n",
       "    .dataframe tbody tr th:only-of-type {\n",
       "        vertical-align: middle;\n",
       "    }\n",
       "\n",
       "    .dataframe tbody tr th {\n",
       "        vertical-align: top;\n",
       "    }\n",
       "\n",
       "    .dataframe thead th {\n",
       "        text-align: right;\n",
       "    }\n",
       "</style>\n",
       "<table border=\"1\" class=\"dataframe\">\n",
       "  <thead>\n",
       "    <tr style=\"text-align: right;\">\n",
       "      <th></th>\n",
       "      <th>HIC_antibodies</th>\n",
       "      <th>HIV</th>\n",
       "      <th>HbsAg</th>\n",
       "      <th>Age</th>\n",
       "      <th>r_f_d</th>\n",
       "      <th>u_red_r</th>\n",
       "      <th>v_f_amount</th>\n",
       "      <th>Vlm</th>\n",
       "      <th>label</th>\n",
       "      <th>p_id</th>\n",
       "      <th>...</th>\n",
       "      <th>State_RJ</th>\n",
       "      <th>State_RN</th>\n",
       "      <th>State_RO</th>\n",
       "      <th>State_RR</th>\n",
       "      <th>State_RS</th>\n",
       "      <th>State_SC</th>\n",
       "      <th>State_SE</th>\n",
       "      <th>State_SP</th>\n",
       "      <th>State_TO</th>\n",
       "      <th>label_cat</th>\n",
       "    </tr>\n",
       "  </thead>\n",
       "  <tbody>\n",
       "    <tr>\n",
       "      <th>0</th>\n",
       "      <td>0</td>\n",
       "      <td>0</td>\n",
       "      <td>0</td>\n",
       "      <td>0.3500</td>\n",
       "      <td>0.25</td>\n",
       "      <td>0.596637</td>\n",
       "      <td>0.553054</td>\n",
       "      <td>0.297873</td>\n",
       "      <td>N180</td>\n",
       "      <td>37378</td>\n",
       "      <td>...</td>\n",
       "      <td>0</td>\n",
       "      <td>0</td>\n",
       "      <td>0</td>\n",
       "      <td>0</td>\n",
       "      <td>0</td>\n",
       "      <td>0</td>\n",
       "      <td>0</td>\n",
       "      <td>0</td>\n",
       "      <td>0</td>\n",
       "      <td>7</td>\n",
       "    </tr>\n",
       "    <tr>\n",
       "      <th>1</th>\n",
       "      <td>0</td>\n",
       "      <td>0</td>\n",
       "      <td>0</td>\n",
       "      <td>0.3375</td>\n",
       "      <td>0.25</td>\n",
       "      <td>0.596637</td>\n",
       "      <td>0.553054</td>\n",
       "      <td>0.297873</td>\n",
       "      <td>N180</td>\n",
       "      <td>37378</td>\n",
       "      <td>...</td>\n",
       "      <td>0</td>\n",
       "      <td>0</td>\n",
       "      <td>0</td>\n",
       "      <td>0</td>\n",
       "      <td>0</td>\n",
       "      <td>0</td>\n",
       "      <td>0</td>\n",
       "      <td>0</td>\n",
       "      <td>0</td>\n",
       "      <td>7</td>\n",
       "    </tr>\n",
       "    <tr>\n",
       "      <th>2</th>\n",
       "      <td>0</td>\n",
       "      <td>0</td>\n",
       "      <td>0</td>\n",
       "      <td>0.3625</td>\n",
       "      <td>0.25</td>\n",
       "      <td>0.596637</td>\n",
       "      <td>0.553054</td>\n",
       "      <td>0.297873</td>\n",
       "      <td>N180</td>\n",
       "      <td>37378</td>\n",
       "      <td>...</td>\n",
       "      <td>0</td>\n",
       "      <td>0</td>\n",
       "      <td>0</td>\n",
       "      <td>0</td>\n",
       "      <td>0</td>\n",
       "      <td>0</td>\n",
       "      <td>0</td>\n",
       "      <td>0</td>\n",
       "      <td>0</td>\n",
       "      <td>7</td>\n",
       "    </tr>\n",
       "    <tr>\n",
       "      <th>3</th>\n",
       "      <td>0</td>\n",
       "      <td>0</td>\n",
       "      <td>0</td>\n",
       "      <td>0.3250</td>\n",
       "      <td>0.25</td>\n",
       "      <td>0.596637</td>\n",
       "      <td>0.553054</td>\n",
       "      <td>0.297873</td>\n",
       "      <td>N180</td>\n",
       "      <td>37378</td>\n",
       "      <td>...</td>\n",
       "      <td>0</td>\n",
       "      <td>0</td>\n",
       "      <td>0</td>\n",
       "      <td>0</td>\n",
       "      <td>0</td>\n",
       "      <td>0</td>\n",
       "      <td>0</td>\n",
       "      <td>0</td>\n",
       "      <td>0</td>\n",
       "      <td>7</td>\n",
       "    </tr>\n",
       "    <tr>\n",
       "      <th>4</th>\n",
       "      <td>0</td>\n",
       "      <td>0</td>\n",
       "      <td>0</td>\n",
       "      <td>0.3500</td>\n",
       "      <td>0.25</td>\n",
       "      <td>0.596637</td>\n",
       "      <td>0.553054</td>\n",
       "      <td>0.297873</td>\n",
       "      <td>N180</td>\n",
       "      <td>37378</td>\n",
       "      <td>...</td>\n",
       "      <td>0</td>\n",
       "      <td>0</td>\n",
       "      <td>0</td>\n",
       "      <td>0</td>\n",
       "      <td>0</td>\n",
       "      <td>0</td>\n",
       "      <td>0</td>\n",
       "      <td>0</td>\n",
       "      <td>0</td>\n",
       "      <td>7</td>\n",
       "    </tr>\n",
       "  </tbody>\n",
       "</table>\n",
       "<p>5 rows × 45 columns</p>\n",
       "</div>"
      ],
      "text/plain": [
       "   HIC_antibodies  HIV  HbsAg     Age  r_f_d   u_red_r  v_f_amount       Vlm  \\\n",
       "0               0    0      0  0.3500   0.25  0.596637    0.553054  0.297873   \n",
       "1               0    0      0  0.3375   0.25  0.596637    0.553054  0.297873   \n",
       "2               0    0      0  0.3625   0.25  0.596637    0.553054  0.297873   \n",
       "3               0    0      0  0.3250   0.25  0.596637    0.553054  0.297873   \n",
       "4               0    0      0  0.3500   0.25  0.596637    0.553054  0.297873   \n",
       "\n",
       "  label   p_id  ...  State_RJ  State_RN  State_RO  State_RR  State_RS  \\\n",
       "0  N180  37378  ...         0         0         0         0         0   \n",
       "1  N180  37378  ...         0         0         0         0         0   \n",
       "2  N180  37378  ...         0         0         0         0         0   \n",
       "3  N180  37378  ...         0         0         0         0         0   \n",
       "4  N180  37378  ...         0         0         0         0         0   \n",
       "\n",
       "   State_SC  State_SE  State_SP  State_TO  label_cat  \n",
       "0         0         0         0         0          7  \n",
       "1         0         0         0         0          7  \n",
       "2         0         0         0         0          7  \n",
       "3         0         0         0         0          7  \n",
       "4         0         0         0         0          7  \n",
       "\n",
       "[5 rows x 45 columns]"
      ]
     },
     "execution_count": 5,
     "metadata": {},
     "output_type": "execute_result"
    }
   ],
   "source": [
    "d_f.head()"
   ]
  },
  {
   "cell_type": "code",
   "execution_count": 6,
   "id": "c774f5f8",
   "metadata": {},
   "outputs": [
    {
     "name": "stdout",
     "output_type": "stream",
     "text": [
      "339338\n",
      "3393385\n"
     ]
    }
   ],
   "source": [
    "df_s = d_f.sample(frac=0.1)\n",
    "print(len(df_s))\n",
    "print(len(d_f))\n",
    "Y = df_s[\"label_cat\"]\n",
    "X = df_s.drop(['label', 'label_cat', 'p_id'], axis=1)"
   ]
  },
  {
   "cell_type": "code",
   "execution_count": 7,
   "id": "fe296f52",
   "metadata": {},
   "outputs": [
    {
     "data": {
      "text/html": [
       "<div>\n",
       "<style scoped>\n",
       "    .dataframe tbody tr th:only-of-type {\n",
       "        vertical-align: middle;\n",
       "    }\n",
       "\n",
       "    .dataframe tbody tr th {\n",
       "        vertical-align: top;\n",
       "    }\n",
       "\n",
       "    .dataframe thead th {\n",
       "        text-align: right;\n",
       "    }\n",
       "</style>\n",
       "<table border=\"1\" class=\"dataframe\">\n",
       "  <thead>\n",
       "    <tr style=\"text-align: right;\">\n",
       "      <th></th>\n",
       "      <th>HIC_antibodies</th>\n",
       "      <th>HIV</th>\n",
       "      <th>HbsAg</th>\n",
       "      <th>Age</th>\n",
       "      <th>r_f_d</th>\n",
       "      <th>u_red_r</th>\n",
       "      <th>v_f_amount</th>\n",
       "      <th>Vlm</th>\n",
       "      <th>Procedure_305010026</th>\n",
       "      <th>Procedure_305010069</th>\n",
       "      <th>...</th>\n",
       "      <th>State_PR</th>\n",
       "      <th>State_RJ</th>\n",
       "      <th>State_RN</th>\n",
       "      <th>State_RO</th>\n",
       "      <th>State_RR</th>\n",
       "      <th>State_RS</th>\n",
       "      <th>State_SC</th>\n",
       "      <th>State_SE</th>\n",
       "      <th>State_SP</th>\n",
       "      <th>State_TO</th>\n",
       "    </tr>\n",
       "  </thead>\n",
       "  <tbody>\n",
       "    <tr>\n",
       "      <th>329291</th>\n",
       "      <td>0</td>\n",
       "      <td>0</td>\n",
       "      <td>0</td>\n",
       "      <td>0.9125</td>\n",
       "      <td>0.250</td>\n",
       "      <td>0.596637</td>\n",
       "      <td>0.553054</td>\n",
       "      <td>0.297873</td>\n",
       "      <td>0</td>\n",
       "      <td>0</td>\n",
       "      <td>...</td>\n",
       "      <td>0</td>\n",
       "      <td>0</td>\n",
       "      <td>0</td>\n",
       "      <td>0</td>\n",
       "      <td>0</td>\n",
       "      <td>0</td>\n",
       "      <td>0</td>\n",
       "      <td>0</td>\n",
       "      <td>0</td>\n",
       "      <td>0</td>\n",
       "    </tr>\n",
       "    <tr>\n",
       "      <th>74341</th>\n",
       "      <td>1</td>\n",
       "      <td>0</td>\n",
       "      <td>0</td>\n",
       "      <td>0.5375</td>\n",
       "      <td>0.250</td>\n",
       "      <td>0.596638</td>\n",
       "      <td>0.553097</td>\n",
       "      <td>0.297873</td>\n",
       "      <td>0</td>\n",
       "      <td>0</td>\n",
       "      <td>...</td>\n",
       "      <td>0</td>\n",
       "      <td>0</td>\n",
       "      <td>0</td>\n",
       "      <td>0</td>\n",
       "      <td>0</td>\n",
       "      <td>0</td>\n",
       "      <td>0</td>\n",
       "      <td>0</td>\n",
       "      <td>0</td>\n",
       "      <td>0</td>\n",
       "    </tr>\n",
       "    <tr>\n",
       "      <th>1115207</th>\n",
       "      <td>0</td>\n",
       "      <td>0</td>\n",
       "      <td>0</td>\n",
       "      <td>0.9250</td>\n",
       "      <td>0.250</td>\n",
       "      <td>0.596637</td>\n",
       "      <td>0.553068</td>\n",
       "      <td>0.297873</td>\n",
       "      <td>0</td>\n",
       "      <td>0</td>\n",
       "      <td>...</td>\n",
       "      <td>1</td>\n",
       "      <td>0</td>\n",
       "      <td>0</td>\n",
       "      <td>0</td>\n",
       "      <td>0</td>\n",
       "      <td>0</td>\n",
       "      <td>0</td>\n",
       "      <td>0</td>\n",
       "      <td>0</td>\n",
       "      <td>0</td>\n",
       "    </tr>\n",
       "    <tr>\n",
       "      <th>882626</th>\n",
       "      <td>0</td>\n",
       "      <td>0</td>\n",
       "      <td>0</td>\n",
       "      <td>0.5875</td>\n",
       "      <td>0.250</td>\n",
       "      <td>0.596637</td>\n",
       "      <td>0.553054</td>\n",
       "      <td>0.297875</td>\n",
       "      <td>0</td>\n",
       "      <td>0</td>\n",
       "      <td>...</td>\n",
       "      <td>1</td>\n",
       "      <td>0</td>\n",
       "      <td>0</td>\n",
       "      <td>0</td>\n",
       "      <td>0</td>\n",
       "      <td>0</td>\n",
       "      <td>0</td>\n",
       "      <td>0</td>\n",
       "      <td>0</td>\n",
       "      <td>0</td>\n",
       "    </tr>\n",
       "    <tr>\n",
       "      <th>3304160</th>\n",
       "      <td>0</td>\n",
       "      <td>0</td>\n",
       "      <td>0</td>\n",
       "      <td>0.7500</td>\n",
       "      <td>0.125</td>\n",
       "      <td>0.596637</td>\n",
       "      <td>0.553054</td>\n",
       "      <td>0.297874</td>\n",
       "      <td>0</td>\n",
       "      <td>0</td>\n",
       "      <td>...</td>\n",
       "      <td>0</td>\n",
       "      <td>0</td>\n",
       "      <td>0</td>\n",
       "      <td>0</td>\n",
       "      <td>0</td>\n",
       "      <td>0</td>\n",
       "      <td>0</td>\n",
       "      <td>0</td>\n",
       "      <td>1</td>\n",
       "      <td>0</td>\n",
       "    </tr>\n",
       "  </tbody>\n",
       "</table>\n",
       "<p>5 rows × 42 columns</p>\n",
       "</div>"
      ],
      "text/plain": [
       "         HIC_antibodies  HIV  HbsAg     Age  r_f_d   u_red_r  v_f_amount  \\\n",
       "329291                0    0      0  0.9125  0.250  0.596637    0.553054   \n",
       "74341                 1    0      0  0.5375  0.250  0.596638    0.553097   \n",
       "1115207               0    0      0  0.9250  0.250  0.596637    0.553068   \n",
       "882626                0    0      0  0.5875  0.250  0.596637    0.553054   \n",
       "3304160               0    0      0  0.7500  0.125  0.596637    0.553054   \n",
       "\n",
       "              Vlm  Procedure_305010026  Procedure_305010069  ...  State_PR  \\\n",
       "329291   0.297873                    0                    0  ...         0   \n",
       "74341    0.297873                    0                    0  ...         0   \n",
       "1115207  0.297873                    0                    0  ...         1   \n",
       "882626   0.297875                    0                    0  ...         1   \n",
       "3304160  0.297874                    0                    0  ...         0   \n",
       "\n",
       "         State_RJ  State_RN  State_RO  State_RR  State_RS  State_SC  State_SE  \\\n",
       "329291          0         0         0         0         0         0         0   \n",
       "74341           0         0         0         0         0         0         0   \n",
       "1115207         0         0         0         0         0         0         0   \n",
       "882626          0         0         0         0         0         0         0   \n",
       "3304160         0         0         0         0         0         0         0   \n",
       "\n",
       "         State_SP  State_TO  \n",
       "329291          0         0  \n",
       "74341           0         0  \n",
       "1115207         0         0  \n",
       "882626          0         0  \n",
       "3304160         1         0  \n",
       "\n",
       "[5 rows x 42 columns]"
      ]
     },
     "execution_count": 7,
     "metadata": {},
     "output_type": "execute_result"
    }
   ],
   "source": [
    "X.head()"
   ]
  },
  {
   "cell_type": "code",
   "execution_count": 8,
   "id": "4e52f155",
   "metadata": {},
   "outputs": [
    {
     "name": "stdout",
     "output_type": "stream",
     "text": [
      "number of classes: 10\n"
     ]
    }
   ],
   "source": [
    "num_classes = len(Y.unique())\n",
    "print(\"number of classes:\", num_classes)"
   ]
  },
  {
   "cell_type": "code",
   "execution_count": 9,
   "id": "108d27e9",
   "metadata": {},
   "outputs": [],
   "source": [
    "from sklearn.model_selection import train_test_split\n",
    "X_train, X_test, y_train, y_test = train_test_split(\n",
    "    X,\n",
    "    Y,\n",
    "    test_size=0.2,\n",
    "    random_state=42,\n",
    ")"
   ]
  },
  {
   "cell_type": "code",
   "execution_count": 10,
   "id": "06b4da22",
   "metadata": {},
   "outputs": [
    {
     "name": "stdout",
     "output_type": "stream",
     "text": [
      "number of train classes: 10\n",
      "number of test classes: 10\n"
     ]
    }
   ],
   "source": [
    "num_train_classes = len(y_train.unique())\n",
    "num_test_classes = len(y_test.unique())\n",
    "print(\"number of train classes:\", num_train_classes)\n",
    "print(\"number of test classes:\", num_test_classes)"
   ]
  },
  {
   "cell_type": "markdown",
   "id": "cbedbe5f",
   "metadata": {},
   "source": [
    "### Evaluation metrics"
   ]
  },
  {
   "cell_type": "code",
   "execution_count": 11,
   "id": "1ac23b97",
   "metadata": {},
   "outputs": [],
   "source": [
    "from sklearn.metrics import accuracy_score, \\\n",
    "precision_recall_fscore_support, recall_score, f1_score\n",
    "def print_metrics(y_test, y_pred):\n",
    "    acc = accuracy_score(y_test, y_pred)\n",
    "    p, r, f1, _ = precision_recall_fscore_support(y_test, y_pred, average='weighted')\n",
    "    print(f\"Accuracy: {acc:.4f}\")\n",
    "    print(f\"Precision: {p:.4f}\")\n",
    "    print(f\"Recall: {r:.4f}\")\n",
    "    print(f\"F1 Score: {f1:.4f}\")"
   ]
  },
  {
   "cell_type": "markdown",
   "id": "075a1e60",
   "metadata": {},
   "source": [
    "### Logistic Regression"
   ]
  },
  {
   "cell_type": "code",
   "execution_count": 12,
   "id": "a8be40b1",
   "metadata": {},
   "outputs": [
    {
     "data": {
      "text/plain": [
       "LogisticRegression(solver='liblinear')"
      ]
     },
     "execution_count": 12,
     "metadata": {},
     "output_type": "execute_result"
    }
   ],
   "source": [
    "from sklearn.linear_model import LogisticRegression\n",
    "\n",
    "lr_clf = LogisticRegression(solver='liblinear')\n",
    "lr_clf.fit(X_train, y_train)"
   ]
  },
  {
   "cell_type": "code",
   "execution_count": 13,
   "id": "f8ef8ac9",
   "metadata": {},
   "outputs": [],
   "source": [
    "y_pred_lr = lr_clf.predict(X_test)"
   ]
  },
  {
   "cell_type": "code",
   "execution_count": 14,
   "id": "d6880dfa",
   "metadata": {},
   "outputs": [
    {
     "name": "stdout",
     "output_type": "stream",
     "text": [
      "Accuracy: 0.9825\n",
      "Precision: 0.9653\n",
      "Recall: 0.9825\n",
      "F1 Score: 0.9738\n"
     ]
    }
   ],
   "source": [
    "print_metrics(y_test, y_pred_lr)"
   ]
  },
  {
   "cell_type": "markdown",
   "id": "7b765bce",
   "metadata": {},
   "source": [
    "### Naive Bayes"
   ]
  },
  {
   "cell_type": "code",
   "execution_count": 15,
   "id": "fde67c63",
   "metadata": {},
   "outputs": [],
   "source": [
    "from sklearn.naive_bayes import BernoulliNB\n",
    "nb_clf = BernoulliNB().fit(X_train, y_train)"
   ]
  },
  {
   "cell_type": "code",
   "execution_count": 16,
   "id": "ea68b947",
   "metadata": {},
   "outputs": [],
   "source": [
    "y_pred_nb = nb_clf.predict(X_test)"
   ]
  },
  {
   "cell_type": "code",
   "execution_count": 17,
   "id": "958d816b",
   "metadata": {},
   "outputs": [
    {
     "name": "stdout",
     "output_type": "stream",
     "text": [
      "Accuracy: 0.9825\n",
      "Precision: 0.9653\n",
      "Recall: 0.9825\n",
      "F1 Score: 0.9738\n"
     ]
    }
   ],
   "source": [
    "print_metrics(y_test, y_pred_nb)"
   ]
  },
  {
   "cell_type": "markdown",
   "id": "26c128bd",
   "metadata": {},
   "source": [
    "### KNN"
   ]
  },
  {
   "cell_type": "code",
   "execution_count": 18,
   "id": "1854cd5d",
   "metadata": {},
   "outputs": [
    {
     "data": {
      "text/plain": [
       "KNeighborsClassifier()"
      ]
     },
     "execution_count": 18,
     "metadata": {},
     "output_type": "execute_result"
    }
   ],
   "source": [
    "from sklearn.neighbors import KNeighborsClassifier\n",
    "knn_clf = KNeighborsClassifier()\n",
    "knn_clf.fit(X_train, y_train)"
   ]
  },
  {
   "cell_type": "code",
   "execution_count": 19,
   "id": "719520be",
   "metadata": {},
   "outputs": [],
   "source": [
    "y_pred_knn = knn_clf.predict(X_test)"
   ]
  },
  {
   "cell_type": "code",
   "execution_count": 20,
   "id": "fc7b35b0",
   "metadata": {},
   "outputs": [
    {
     "name": "stdout",
     "output_type": "stream",
     "text": [
      "Accuracy: 0.9817\n",
      "Precision: 0.9696\n",
      "Recall: 0.9817\n",
      "F1 Score: 0.9742\n"
     ]
    }
   ],
   "source": [
    "print_metrics(y_test, y_pred_knn)"
   ]
  },
  {
   "cell_type": "markdown",
   "id": "b00cc780",
   "metadata": {},
   "source": [
    "### Decision tree"
   ]
  },
  {
   "cell_type": "code",
   "execution_count": 21,
   "id": "702e8b54",
   "metadata": {},
   "outputs": [
    {
     "data": {
      "text/plain": [
       "DecisionTreeClassifier(random_state=99)"
      ]
     },
     "execution_count": 21,
     "metadata": {},
     "output_type": "execute_result"
    }
   ],
   "source": [
    "from sklearn.tree import DecisionTreeClassifier\n",
    "dt_clf = DecisionTreeClassifier(random_state=99)\n",
    "dt_clf.fit(X_train, y_train)"
   ]
  },
  {
   "cell_type": "code",
   "execution_count": 22,
   "id": "f96672ae",
   "metadata": {},
   "outputs": [],
   "source": [
    "y_pred_dt = dt_clf.predict(X_test)"
   ]
  },
  {
   "cell_type": "code",
   "execution_count": 23,
   "id": "33aaa94b",
   "metadata": {},
   "outputs": [
    {
     "name": "stdout",
     "output_type": "stream",
     "text": [
      "Accuracy: 0.9762\n",
      "Precision: 0.9717\n",
      "Recall: 0.9762\n",
      "F1 Score: 0.9737\n"
     ]
    }
   ],
   "source": [
    "print_metrics(y_test, y_pred_dt)"
   ]
  },
  {
   "cell_type": "code",
   "execution_count": null,
   "id": "324c258e",
   "metadata": {},
   "outputs": [],
   "source": []
  }
 ],
 "metadata": {
  "kernelspec": {
   "display_name": "py3.7",
   "language": "python",
   "name": "py3.7"
  },
  "language_info": {
   "codemirror_mode": {
    "name": "ipython",
    "version": 3
   },
   "file_extension": ".py",
   "mimetype": "text/x-python",
   "name": "python",
   "nbconvert_exporter": "python",
   "pygments_lexer": "ipython3",
   "version": "3.7.4"
  }
 },
 "nbformat": 4,
 "nbformat_minor": 5
}

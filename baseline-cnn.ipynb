{
 "cells": [
  {
   "cell_type": "markdown",
   "id": "c7bc34c0",
   "metadata": {},
   "source": [
    "## !!! Baseline CNN model !!!\n",
    "This is using a 2d convolution"
   ]
  },
  {
   "cell_type": "code",
   "execution_count": 1,
   "id": "100f8317",
   "metadata": {},
   "outputs": [],
   "source": [
    "import numpy as np\n",
    "import pandas as pd\n",
    "import torch \n",
    "import torch.nn as nn\n",
    "\n",
    "import random\n",
    "import os"
   ]
  },
  {
   "cell_type": "code",
   "execution_count": 2,
   "id": "655e7087",
   "metadata": {},
   "outputs": [],
   "source": [
    "seed = 99\n",
    "random.seed(seed)\n",
    "np.random.seed(seed)\n",
    "torch.manual_seed(seed)\n",
    "os.environ[\"PYTHONHASHSEED\"] = str(seed)"
   ]
  },
  {
   "cell_type": "markdown",
   "id": "5d525acd",
   "metadata": {},
   "source": [
    "### Loading data\n",
    "* Re-using the saved pre-processed data of patients grouped by visits. "
   ]
  },
  {
   "cell_type": "code",
   "execution_count": 3,
   "id": "cd217dad",
   "metadata": {},
   "outputs": [],
   "source": [
    "X = torch.load(\"processed-data/p_x.pt\")\n",
    "Y = torch.load(\"processed-data/p_y.pt\")"
   ]
  },
  {
   "cell_type": "code",
   "execution_count": 4,
   "id": "20c16b45",
   "metadata": {},
   "outputs": [
    {
     "name": "stdout",
     "output_type": "stream",
     "text": [
      "184123\n",
      "184123\n",
      "{'N180', 'I120', 'I10', 'N039', 'N188', 'N083', 'E102', 'N189', 'E142', 'N088'}\n"
     ]
    }
   ],
   "source": [
    "print(len(Y))\n",
    "print(len(X))\n",
    "print(set(Y))"
   ]
  },
  {
   "cell_type": "code",
   "execution_count": 5,
   "id": "d0021834",
   "metadata": {},
   "outputs": [
    {
     "name": "stdout",
     "output_type": "stream",
     "text": [
      "(184123, 40, 42)\n",
      "184123\n"
     ]
    }
   ],
   "source": [
    "print(X.shape)\n",
    "print(len(Y))"
   ]
  },
  {
   "cell_type": "markdown",
   "id": "ec260962",
   "metadata": {},
   "source": [
    "### Number of patients in each target class"
   ]
  },
  {
   "cell_type": "code",
   "execution_count": 6,
   "id": "64f758b5",
   "metadata": {},
   "outputs": [
    {
     "name": "stdout",
     "output_type": "stream",
     "text": [
      "N180: 178540\n",
      "I120: 1189\n",
      "I10: 360\n",
      "N039: 316\n",
      "N188: 307\n",
      "N083: 314\n",
      "E102: 100\n",
      "N189: 2690\n",
      "E142: 178\n",
      "N088: 129\n"
     ]
    }
   ],
   "source": [
    "for l in set(Y):\n",
    "    print(f\"{l}:\", len(np.where(np.array(Y) == l)[0]))"
   ]
  },
  {
   "cell_type": "markdown",
   "id": "3d668f52",
   "metadata": {},
   "source": [
    "### Converting target lables to one-hot encoding "
   ]
  },
  {
   "cell_type": "code",
   "execution_count": 7,
   "id": "fb4a7046",
   "metadata": {},
   "outputs": [],
   "source": [
    "y_labels = list(set(Y))\n",
    "Y_oh = np.zeros((len(Y), len(y_labels)))\n",
    "for idx, y in enumerate(Y):\n",
    "    Y_oh[idx][y_labels.index(y)] = 1"
   ]
  },
  {
   "cell_type": "code",
   "execution_count": 8,
   "id": "d4551dac",
   "metadata": {},
   "outputs": [
    {
     "name": "stdout",
     "output_type": "stream",
     "text": [
      "(184123, 10)\n"
     ]
    },
    {
     "data": {
      "text/plain": [
       "array([[1., 0., 0., ..., 0., 0., 0.],\n",
       "       [1., 0., 0., ..., 0., 0., 0.],\n",
       "       [1., 0., 0., ..., 0., 0., 0.],\n",
       "       ...,\n",
       "       [1., 0., 0., ..., 0., 0., 0.],\n",
       "       [1., 0., 0., ..., 0., 0., 0.],\n",
       "       [1., 0., 0., ..., 0., 0., 0.]])"
      ]
     },
     "execution_count": 8,
     "metadata": {},
     "output_type": "execute_result"
    }
   ],
   "source": [
    "print(Y_oh.shape)\n",
    "Y_oh"
   ]
  },
  {
   "cell_type": "markdown",
   "id": "bd9258da",
   "metadata": {},
   "source": [
    "### Converting patient data (X) and target one-hot encoded data (Y_oh) as tensors to build the model"
   ]
  },
  {
   "cell_type": "code",
   "execution_count": 9,
   "id": "2f326987",
   "metadata": {},
   "outputs": [
    {
     "name": "stdout",
     "output_type": "stream",
     "text": [
      "Xt shape: torch.Size([184123, 40, 42])\n",
      "Yt shape: torch.Size([184123, 10])\n"
     ]
    }
   ],
   "source": [
    "Xt = torch.tensor(X)\n",
    "Yt = torch.tensor(Y_oh)\n",
    "Xt = Xt.type(torch.FloatTensor)\n",
    "Yt = Yt.type(torch.LongTensor)\n",
    "print(\"Xt shape:\", Xt.shape)\n",
    "print(\"Yt shape:\", Yt.shape)"
   ]
  },
  {
   "cell_type": "markdown",
   "id": "13cdd283",
   "metadata": {},
   "source": [
    "### A custom dataset to load data. Data is shuffled by dataloader for training "
   ]
  },
  {
   "cell_type": "code",
   "execution_count": 10,
   "id": "d11bcec0",
   "metadata": {},
   "outputs": [],
   "source": [
    "from torch.utils.data import Dataset\n",
    "from torch.utils.data import random_split\n",
    "\n",
    "class NephrologyDataset(Dataset):\n",
    "    def __init__(self, X, y):\n",
    "        self.X = X\n",
    "        self.y = y\n",
    "        self.n = len(X)\n",
    "\n",
    "    def __len__(self):\n",
    "        return len(self.X)\n",
    "\n",
    "    def __getitem__(self, idx):\n",
    "        x = self.X[idx]\n",
    "        y = self.y[idx]\n",
    "        \n",
    "        return x, y\n",
    "\n",
    "    def get_splits(self, n_test=0.2):\n",
    "        test_size = round(n_test * len(self.X))\n",
    "        train_size = len(self.X) - test_size\n",
    "        \n",
    "        return random_split(self, [train_size, test_size])"
   ]
  },
  {
   "cell_type": "code",
   "execution_count": 11,
   "id": "08d3e8df",
   "metadata": {},
   "outputs": [
    {
     "name": "stdout",
     "output_type": "stream",
     "text": [
      "# of train batches: 4604\n",
      "# of test batches: 1151\n"
     ]
    }
   ],
   "source": [
    "from torch.utils.data import DataLoader\n",
    "\n",
    "dataset = NephrologyDataset(Xt, Yt)\n",
    "train, test = dataset.get_splits()\n",
    "train_dl = DataLoader(train, batch_size=32, shuffle=True)\n",
    "test_dl = DataLoader(test, batch_size=32, shuffle=False)\n",
    "print(\"# of train batches:\", len(train_dl))\n",
    "print(\"# of test batches:\", len(test_dl))"
   ]
  },
  {
   "cell_type": "code",
   "execution_count": 12,
   "id": "28ed2dee",
   "metadata": {},
   "outputs": [
    {
     "name": "stdout",
     "output_type": "stream",
     "text": [
      "Shape of a batch x: torch.Size([32, 40, 42])\n",
      "Shape of a batch y: torch.Size([32, 10])\n"
     ]
    }
   ],
   "source": [
    "train_iter = iter(train_dl)\n",
    "x, y = next(train_iter)\n",
    "\n",
    "print('Shape of a batch x:', x.shape)\n",
    "print('Shape of a batch y:', y.shape)"
   ]
  },
  {
   "cell_type": "markdown",
   "id": "fcdfbe44",
   "metadata": {},
   "source": [
    "### CNN Model"
   ]
  },
  {
   "cell_type": "code",
   "execution_count": 13,
   "id": "2d289916",
   "metadata": {},
   "outputs": [],
   "source": [
    "class NephrologyCNN(nn.Module):\n",
    "    def __init__(self):\n",
    "        super(NephrologyCNN, self).__init__()\n",
    "        self.conv = nn.Conv2d(1, 128, (3, 6), stride=2)\n",
    "        self.relu = nn.ReLU()\n",
    "        self.maxpool = nn.MaxPool2d((3, 6), stride=2)\n",
    "                \n",
    "        self.fc = nn.Linear(8064, 10)\n",
    "        self.softmax = nn.Softmax(dim=1)\n",
    "        \n",
    "    def forward(self, x):\n",
    "        x = x[:, None, :]\n",
    "\n",
    "        x = self.conv(x)\n",
    "        x = self.relu(x)\n",
    "        x = self.maxpool(x)\n",
    "\n",
    "        f_out = x.flatten(start_dim=1)\n",
    "        x_out = self.fc(f_out)\n",
    "\n",
    "        y = self.softmax(x_out)\n",
    "        \n",
    "        return y"
   ]
  },
  {
   "cell_type": "code",
   "execution_count": 14,
   "id": "7fd032a6",
   "metadata": {},
   "outputs": [],
   "source": [
    "model = NephrologyCNN()"
   ]
  },
  {
   "cell_type": "code",
   "execution_count": 15,
   "id": "00bb505e",
   "metadata": {},
   "outputs": [],
   "source": [
    "from sklearn.metrics import accuracy_score, \\\n",
    "precision_recall_fscore_support, recall_score, f1_score\n",
    "import warnings\n",
    "warnings.filterwarnings(\"ignore\")\n",
    "\n",
    "def model_metrics(y_test, y_pred):\n",
    "    acc = accuracy_score(y_test, y_pred)\n",
    "    p, r, f1, _ = precision_recall_fscore_support(y_test, y_pred, average='macro')\n",
    "    return acc, p, r, f1"
   ]
  },
  {
   "cell_type": "code",
   "execution_count": 16,
   "id": "0fe455d1",
   "metadata": {},
   "outputs": [],
   "source": [
    "from torch.optim import Adam\n",
    "from torch.nn import CrossEntropyLoss\n",
    "\n",
    "criterion = CrossEntropyLoss()\n",
    "optimizer = Adam(model.parameters(), lr=0.01)"
   ]
  },
  {
   "cell_type": "code",
   "execution_count": 17,
   "id": "4e4877f9",
   "metadata": {},
   "outputs": [],
   "source": [
    "from numpy import vstack\n",
    "from numpy import argmax\n",
    "\n",
    "def evaluate(model, dl):\n",
    "    model.eval()\n",
    "    all_y_pred, all_y_true = list(), list()\n",
    "    for x, y in dl:\n",
    "        y_hat = model(x)\n",
    "\n",
    "        y_true = y.type(torch.FloatTensor)\n",
    "        y_pred = y_hat\n",
    "        \n",
    "        y_pred = (y_pred > 0.5).type(torch.FloatTensor)\n",
    "\n",
    "        all_y_pred.append(y_pred)\n",
    "        all_y_true.append(y_true)\n",
    "    all_y_pred, all_y_true = vstack(all_y_pred), vstack(all_y_true)\n",
    "    acc, p, r, f1 = model_metrics(all_y_true.flatten(), all_y_pred.flatten())\n",
    "    print(f\"acc: {acc:.4f}, precision: {p:.4f}, recall: {r:.4f}, f1: {f1:.4f}\")  "
   ]
  },
  {
   "cell_type": "code",
   "execution_count": 18,
   "id": "f0652c01",
   "metadata": {},
   "outputs": [],
   "source": [
    "def train():\n",
    "    n_epochs = 10\n",
    "    model.train()\n",
    "    train_loss_arr = []\n",
    "    for epoch in range(n_epochs):\n",
    "        train_loss = 0\n",
    "        for x, y in train_dl:\n",
    "            optimizer.zero_grad()\n",
    "            y_hat = model(x)\n",
    "\n",
    "            y_true = y.type(torch.FloatTensor)\n",
    "            y_pred = y_hat\n",
    "            \n",
    "            loss = criterion(y_pred, y_true)\n",
    "            loss.backward()\n",
    "            optimizer.step()\n",
    "            train_loss += loss.item()\n",
    "        train_loss = train_loss / len(train_dl)\n",
    "        print('Epoch: {} \\tTraining Loss: {:.4f}'.format(epoch, train_loss))\n",
    "    evaluate(model, test_dl)"
   ]
  },
  {
   "cell_type": "markdown",
   "id": "09a35db4",
   "metadata": {},
   "source": [
    "### Training and evaluating the model "
   ]
  },
  {
   "cell_type": "code",
   "execution_count": 19,
   "id": "9cb1f05e",
   "metadata": {
    "scrolled": false
   },
   "outputs": [
    {
     "name": "stdout",
     "output_type": "stream",
     "text": [
      "Epoch: 0 \tTraining Loss: 1.4913\n",
      "Epoch: 1 \tTraining Loss: 1.4911\n",
      "Epoch: 2 \tTraining Loss: 1.4911\n",
      "Epoch: 3 \tTraining Loss: 1.4911\n",
      "Epoch: 4 \tTraining Loss: 1.4911\n",
      "Epoch: 5 \tTraining Loss: 1.4911\n",
      "Epoch: 6 \tTraining Loss: 1.4911\n",
      "Epoch: 7 \tTraining Loss: 1.4911\n",
      "Epoch: 8 \tTraining Loss: 1.4911\n",
      "Epoch: 9 \tTraining Loss: 1.4911\n",
      "acc: 0.9937, precision: 0.9824, recall: 0.9824, f1: 0.9824\n",
      "CPU times: user 26min 47s, sys: 2min 8s, total: 28min 56s\n",
      "Wall time: 15min 16s\n"
     ]
    }
   ],
   "source": [
    "%%time\n",
    "train()"
   ]
  },
  {
   "cell_type": "code",
   "execution_count": null,
   "id": "d43eb4db",
   "metadata": {},
   "outputs": [],
   "source": []
  }
 ],
 "metadata": {
  "kernelspec": {
   "display_name": "py3.7-tf",
   "language": "python",
   "name": "py3.7-tf"
  },
  "language_info": {
   "codemirror_mode": {
    "name": "ipython",
    "version": 3
   },
   "file_extension": ".py",
   "mimetype": "text/x-python",
   "name": "python",
   "nbconvert_exporter": "python",
   "pygments_lexer": "ipython3",
   "version": "3.7.4"
  }
 },
 "nbformat": 4,
 "nbformat_minor": 5
}

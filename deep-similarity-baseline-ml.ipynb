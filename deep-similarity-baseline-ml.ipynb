{
 "cells": [
  {
   "cell_type": "code",
   "execution_count": 1,
   "id": "100f8317",
   "metadata": {},
   "outputs": [],
   "source": [
    "import numpy as np\n",
    "import pandas as pd"
   ]
  },
  {
   "cell_type": "code",
   "execution_count": 2,
   "id": "2b4140f9",
   "metadata": {},
   "outputs": [],
   "source": [
    "data = pd.read_csv(\"data-1649721068217.csv.gz\")"
   ]
  },
  {
   "cell_type": "code",
   "execution_count": 3,
   "id": "2dab5b60",
   "metadata": {},
   "outputs": [],
   "source": [
    "data.rename(columns={\"an_hcv\": \"HIC_antibodies\",\n",
    "                    \"an_hiv\": \"HIV\",\n",
    "                    \"an_hbsag\": \"HbsAg\",\n",
    "                    \"ap_nuidade\": \"Age\", \n",
    "                    \"ap_coduni\": \"Hc_u\",\n",
    "                    \"ap_pripal\": \"Procedure\",\n",
    "                    \"ap_motsai\": \"r_f_d\",\n",
    "                    \"estado\": \"State\",\n",
    "                    \"an_tru\": \"u_red_r\",\n",
    "                    \"an_intfis\": \"v_f_amount\",\n",
    "                    \"an_diures\": \"Vlm\",\n",
    "                    \"ap_cidpri\": \"label\"}, inplace=True)"
   ]
  },
  {
   "cell_type": "code",
   "execution_count": 4,
   "id": "ce4f59d3",
   "metadata": {},
   "outputs": [],
   "source": [
    "data[\"label\"] = data[\"label\"].str.strip()"
   ]
  },
  {
   "cell_type": "code",
   "execution_count": 5,
   "id": "e5714503",
   "metadata": {},
   "outputs": [],
   "source": [
    "def to_bool(x):\n",
    "    if x == 'N':\n",
    "        x = 0\n",
    "    else:\n",
    "        x = 1\n",
    "    return x"
   ]
  },
  {
   "cell_type": "code",
   "execution_count": 6,
   "id": "0dc12f46",
   "metadata": {},
   "outputs": [],
   "source": [
    "def trim(x):\n",
    "    x = x.strip(' ')\n",
    "    x = x.lstrip('0')\n",
    "    if len(x) == 0:\n",
    "        x = 0\n",
    "    else:\n",
    "        if ',' in x:\n",
    "            #print(x)\n",
    "            tokens = x.strip(',')\n",
    "            if len(tokens) > 0:\n",
    "                x = tokens[0]\n",
    "            else:\n",
    "                x = 0\n",
    "        if x == '-':\n",
    "            x = 0\n",
    "        try:\n",
    "            x = int(x)\n",
    "        except:\n",
    "            #print(x)\n",
    "            x = 0\n",
    "    return(x)"
   ]
  },
  {
   "cell_type": "code",
   "execution_count": 7,
   "id": "6658179b",
   "metadata": {},
   "outputs": [],
   "source": [
    "data[\"HIC_antibodies\"] = data[\"HIC_antibodies\"].apply(to_bool)\n",
    "data[\"HIV\"] = data[\"HIV\"].apply(to_bool)\n",
    "data[\"HbsAg\"] = data[\"HbsAg\"].apply(to_bool)"
   ]
  },
  {
   "cell_type": "code",
   "execution_count": 8,
   "id": "662bc75b",
   "metadata": {},
   "outputs": [],
   "source": [
    "labels = [\"E102\", \"E142\", \"I10\", \"I120\", \"N039\", \"N083\", \"N088\", \"N180\", \"N188\", \"N189\"]"
   ]
  },
  {
   "cell_type": "code",
   "execution_count": 9,
   "id": "9570515f",
   "metadata": {},
   "outputs": [],
   "source": [
    "data_f = data[data[\"label\"].isin(labels)]"
   ]
  },
  {
   "cell_type": "code",
   "execution_count": 10,
   "id": "0f1a5ff8",
   "metadata": {},
   "outputs": [],
   "source": [
    "data_f['Vlm'] = data_f['Vlm'].apply(trim)\n",
    "data_f['v_f_amount'] = data_f['v_f_amount'].apply(trim)\n",
    "data_f['u_red_r'] = data_f['u_red_r'].apply(trim)\n",
    "\n",
    "data_f['Vlm'] = data_f['Vlm'].astype(int)\n",
    "data_f['v_f_amount'] = data_f['v_f_amount'].astype(int)\n",
    "data_f['u_red_r'] = data_f['u_red_r'].astype(int)"
   ]
  },
  {
   "cell_type": "code",
   "execution_count": 11,
   "id": "cba5e4a1",
   "metadata": {},
   "outputs": [],
   "source": [
    "d_f = data_f[(data_f[\"Vlm\"] != 0) | (data_f[\"v_f_amount\"] != 0) | (data_f[\"u_red_r\"] != 0)]"
   ]
  },
  {
   "cell_type": "code",
   "execution_count": 12,
   "id": "350816ce",
   "metadata": {},
   "outputs": [
    {
     "data": {
      "text/html": [
       "<div>\n",
       "<style scoped>\n",
       "    .dataframe tbody tr th:only-of-type {\n",
       "        vertical-align: middle;\n",
       "    }\n",
       "\n",
       "    .dataframe tbody tr th {\n",
       "        vertical-align: top;\n",
       "    }\n",
       "\n",
       "    .dataframe thead th {\n",
       "        text-align: right;\n",
       "    }\n",
       "</style>\n",
       "<table border=\"1\" class=\"dataframe\">\n",
       "  <thead>\n",
       "    <tr style=\"text-align: right;\">\n",
       "      <th></th>\n",
       "      <th>HIC_antibodies</th>\n",
       "      <th>HIV</th>\n",
       "      <th>HbsAg</th>\n",
       "      <th>Age</th>\n",
       "      <th>r_f_d</th>\n",
       "      <th>u_red_r</th>\n",
       "      <th>v_f_amount</th>\n",
       "      <th>Vlm</th>\n",
       "      <th>label</th>\n",
       "      <th>label_cat</th>\n",
       "      <th>...</th>\n",
       "      <th>State_PR</th>\n",
       "      <th>State_RJ</th>\n",
       "      <th>State_RN</th>\n",
       "      <th>State_RO</th>\n",
       "      <th>State_RR</th>\n",
       "      <th>State_RS</th>\n",
       "      <th>State_SC</th>\n",
       "      <th>State_SE</th>\n",
       "      <th>State_SP</th>\n",
       "      <th>State_TO</th>\n",
       "    </tr>\n",
       "  </thead>\n",
       "  <tbody>\n",
       "    <tr>\n",
       "      <th>1</th>\n",
       "      <td>0</td>\n",
       "      <td>0</td>\n",
       "      <td>0</td>\n",
       "      <td>24</td>\n",
       "      <td>21</td>\n",
       "      <td>72</td>\n",
       "      <td>0</td>\n",
       "      <td>0</td>\n",
       "      <td>N180</td>\n",
       "      <td>7</td>\n",
       "      <td>...</td>\n",
       "      <td>0</td>\n",
       "      <td>0</td>\n",
       "      <td>0</td>\n",
       "      <td>0</td>\n",
       "      <td>0</td>\n",
       "      <td>0</td>\n",
       "      <td>0</td>\n",
       "      <td>0</td>\n",
       "      <td>0</td>\n",
       "      <td>0</td>\n",
       "    </tr>\n",
       "    <tr>\n",
       "      <th>2</th>\n",
       "      <td>0</td>\n",
       "      <td>0</td>\n",
       "      <td>0</td>\n",
       "      <td>40</td>\n",
       "      <td>21</td>\n",
       "      <td>71</td>\n",
       "      <td>0</td>\n",
       "      <td>0</td>\n",
       "      <td>N180</td>\n",
       "      <td>7</td>\n",
       "      <td>...</td>\n",
       "      <td>0</td>\n",
       "      <td>0</td>\n",
       "      <td>0</td>\n",
       "      <td>0</td>\n",
       "      <td>0</td>\n",
       "      <td>0</td>\n",
       "      <td>0</td>\n",
       "      <td>0</td>\n",
       "      <td>0</td>\n",
       "      <td>0</td>\n",
       "    </tr>\n",
       "    <tr>\n",
       "      <th>3</th>\n",
       "      <td>0</td>\n",
       "      <td>0</td>\n",
       "      <td>0</td>\n",
       "      <td>65</td>\n",
       "      <td>21</td>\n",
       "      <td>63</td>\n",
       "      <td>0</td>\n",
       "      <td>0</td>\n",
       "      <td>N180</td>\n",
       "      <td>7</td>\n",
       "      <td>...</td>\n",
       "      <td>0</td>\n",
       "      <td>0</td>\n",
       "      <td>0</td>\n",
       "      <td>0</td>\n",
       "      <td>0</td>\n",
       "      <td>0</td>\n",
       "      <td>0</td>\n",
       "      <td>0</td>\n",
       "      <td>0</td>\n",
       "      <td>0</td>\n",
       "    </tr>\n",
       "    <tr>\n",
       "      <th>4</th>\n",
       "      <td>0</td>\n",
       "      <td>0</td>\n",
       "      <td>0</td>\n",
       "      <td>39</td>\n",
       "      <td>21</td>\n",
       "      <td>59</td>\n",
       "      <td>0</td>\n",
       "      <td>0</td>\n",
       "      <td>N180</td>\n",
       "      <td>7</td>\n",
       "      <td>...</td>\n",
       "      <td>0</td>\n",
       "      <td>0</td>\n",
       "      <td>0</td>\n",
       "      <td>0</td>\n",
       "      <td>0</td>\n",
       "      <td>0</td>\n",
       "      <td>0</td>\n",
       "      <td>0</td>\n",
       "      <td>0</td>\n",
       "      <td>0</td>\n",
       "    </tr>\n",
       "    <tr>\n",
       "      <th>5</th>\n",
       "      <td>0</td>\n",
       "      <td>0</td>\n",
       "      <td>0</td>\n",
       "      <td>49</td>\n",
       "      <td>21</td>\n",
       "      <td>63</td>\n",
       "      <td>0</td>\n",
       "      <td>0</td>\n",
       "      <td>N180</td>\n",
       "      <td>7</td>\n",
       "      <td>...</td>\n",
       "      <td>0</td>\n",
       "      <td>0</td>\n",
       "      <td>0</td>\n",
       "      <td>0</td>\n",
       "      <td>0</td>\n",
       "      <td>0</td>\n",
       "      <td>0</td>\n",
       "      <td>0</td>\n",
       "      <td>0</td>\n",
       "      <td>0</td>\n",
       "    </tr>\n",
       "  </tbody>\n",
       "</table>\n",
       "<p>5 rows × 736 columns</p>\n",
       "</div>"
      ],
      "text/plain": [
       "   HIC_antibodies  HIV  HbsAg  Age  r_f_d  u_red_r  v_f_amount  Vlm label  \\\n",
       "1               0    0      0   24     21       72           0    0  N180   \n",
       "2               0    0      0   40     21       71           0    0  N180   \n",
       "3               0    0      0   65     21       63           0    0  N180   \n",
       "4               0    0      0   39     21       59           0    0  N180   \n",
       "5               0    0      0   49     21       63           0    0  N180   \n",
       "\n",
       "   label_cat  ...  State_PR  State_RJ  State_RN  State_RO  State_RR  State_RS  \\\n",
       "1          7  ...         0         0         0         0         0         0   \n",
       "2          7  ...         0         0         0         0         0         0   \n",
       "3          7  ...         0         0         0         0         0         0   \n",
       "4          7  ...         0         0         0         0         0         0   \n",
       "5          7  ...         0         0         0         0         0         0   \n",
       "\n",
       "   State_SC  State_SE  State_SP  State_TO  \n",
       "1         0         0         0         0  \n",
       "2         0         0         0         0  \n",
       "3         0         0         0         0  \n",
       "4         0         0         0         0  \n",
       "5         0         0         0         0  \n",
       "\n",
       "[5 rows x 736 columns]"
      ]
     },
     "execution_count": 12,
     "metadata": {},
     "output_type": "execute_result"
    }
   ],
   "source": [
    "import warnings\n",
    "warnings.filterwarnings(\"ignore\")\n",
    "\n",
    "d_f[\"label\"] = d_f[\"label\"].astype('category')\n",
    "d_f[\"label_cat\"] = d_f[\"label\"].cat.codes\n",
    "d_f = pd.get_dummies(d_f, columns=[\"Hc_u\"])\n",
    "d_f = pd.get_dummies(d_f, columns=[\"Procedure\"])\n",
    "d_f = pd.get_dummies(d_f, columns=[\"State\"])\n",
    "d_f.head()"
   ]
  },
  {
   "cell_type": "code",
   "execution_count": 13,
   "id": "c774f5f8",
   "metadata": {},
   "outputs": [
    {
     "name": "stdout",
     "output_type": "stream",
     "text": [
      "339342\n",
      "3393421\n"
     ]
    }
   ],
   "source": [
    "df_s = d_f.sample(frac=0.1)\n",
    "print(len(df_s))\n",
    "print(len(d_f))\n",
    "Y = df_s[\"label_cat\"]\n",
    "X = df_s.drop(['label', 'label_cat'], axis=1)"
   ]
  },
  {
   "cell_type": "code",
   "execution_count": 14,
   "id": "fe296f52",
   "metadata": {},
   "outputs": [
    {
     "data": {
      "text/html": [
       "<div>\n",
       "<style scoped>\n",
       "    .dataframe tbody tr th:only-of-type {\n",
       "        vertical-align: middle;\n",
       "    }\n",
       "\n",
       "    .dataframe tbody tr th {\n",
       "        vertical-align: top;\n",
       "    }\n",
       "\n",
       "    .dataframe thead th {\n",
       "        text-align: right;\n",
       "    }\n",
       "</style>\n",
       "<table border=\"1\" class=\"dataframe\">\n",
       "  <thead>\n",
       "    <tr style=\"text-align: right;\">\n",
       "      <th></th>\n",
       "      <th>HIC_antibodies</th>\n",
       "      <th>HIV</th>\n",
       "      <th>HbsAg</th>\n",
       "      <th>Age</th>\n",
       "      <th>r_f_d</th>\n",
       "      <th>u_red_r</th>\n",
       "      <th>v_f_amount</th>\n",
       "      <th>Vlm</th>\n",
       "      <th>Hc_u_004a13c3db6768e6</th>\n",
       "      <th>Hc_u_014bfb51b0b9c3e3</th>\n",
       "      <th>...</th>\n",
       "      <th>State_PR</th>\n",
       "      <th>State_RJ</th>\n",
       "      <th>State_RN</th>\n",
       "      <th>State_RO</th>\n",
       "      <th>State_RR</th>\n",
       "      <th>State_RS</th>\n",
       "      <th>State_SC</th>\n",
       "      <th>State_SE</th>\n",
       "      <th>State_SP</th>\n",
       "      <th>State_TO</th>\n",
       "    </tr>\n",
       "  </thead>\n",
       "  <tbody>\n",
       "    <tr>\n",
       "      <th>705234</th>\n",
       "      <td>0</td>\n",
       "      <td>0</td>\n",
       "      <td>0</td>\n",
       "      <td>27</td>\n",
       "      <td>21</td>\n",
       "      <td>70</td>\n",
       "      <td>0</td>\n",
       "      <td>0</td>\n",
       "      <td>0</td>\n",
       "      <td>0</td>\n",
       "      <td>...</td>\n",
       "      <td>1</td>\n",
       "      <td>0</td>\n",
       "      <td>0</td>\n",
       "      <td>0</td>\n",
       "      <td>0</td>\n",
       "      <td>0</td>\n",
       "      <td>0</td>\n",
       "      <td>0</td>\n",
       "      <td>0</td>\n",
       "      <td>0</td>\n",
       "    </tr>\n",
       "    <tr>\n",
       "      <th>135141</th>\n",
       "      <td>0</td>\n",
       "      <td>0</td>\n",
       "      <td>0</td>\n",
       "      <td>66</td>\n",
       "      <td>21</td>\n",
       "      <td>0</td>\n",
       "      <td>0</td>\n",
       "      <td>1</td>\n",
       "      <td>0</td>\n",
       "      <td>0</td>\n",
       "      <td>...</td>\n",
       "      <td>0</td>\n",
       "      <td>0</td>\n",
       "      <td>0</td>\n",
       "      <td>0</td>\n",
       "      <td>0</td>\n",
       "      <td>0</td>\n",
       "      <td>0</td>\n",
       "      <td>0</td>\n",
       "      <td>1</td>\n",
       "      <td>0</td>\n",
       "    </tr>\n",
       "    <tr>\n",
       "      <th>555226</th>\n",
       "      <td>0</td>\n",
       "      <td>0</td>\n",
       "      <td>0</td>\n",
       "      <td>44</td>\n",
       "      <td>21</td>\n",
       "      <td>63</td>\n",
       "      <td>1</td>\n",
       "      <td>800</td>\n",
       "      <td>0</td>\n",
       "      <td>0</td>\n",
       "      <td>...</td>\n",
       "      <td>0</td>\n",
       "      <td>0</td>\n",
       "      <td>0</td>\n",
       "      <td>0</td>\n",
       "      <td>0</td>\n",
       "      <td>0</td>\n",
       "      <td>0</td>\n",
       "      <td>0</td>\n",
       "      <td>1</td>\n",
       "      <td>0</td>\n",
       "    </tr>\n",
       "    <tr>\n",
       "      <th>4351546</th>\n",
       "      <td>0</td>\n",
       "      <td>0</td>\n",
       "      <td>0</td>\n",
       "      <td>60</td>\n",
       "      <td>21</td>\n",
       "      <td>182</td>\n",
       "      <td>0</td>\n",
       "      <td>1</td>\n",
       "      <td>0</td>\n",
       "      <td>0</td>\n",
       "      <td>...</td>\n",
       "      <td>0</td>\n",
       "      <td>0</td>\n",
       "      <td>0</td>\n",
       "      <td>0</td>\n",
       "      <td>0</td>\n",
       "      <td>0</td>\n",
       "      <td>0</td>\n",
       "      <td>0</td>\n",
       "      <td>1</td>\n",
       "      <td>0</td>\n",
       "    </tr>\n",
       "    <tr>\n",
       "      <th>952851</th>\n",
       "      <td>0</td>\n",
       "      <td>0</td>\n",
       "      <td>0</td>\n",
       "      <td>29</td>\n",
       "      <td>21</td>\n",
       "      <td>67</td>\n",
       "      <td>0</td>\n",
       "      <td>180</td>\n",
       "      <td>0</td>\n",
       "      <td>0</td>\n",
       "      <td>...</td>\n",
       "      <td>0</td>\n",
       "      <td>0</td>\n",
       "      <td>0</td>\n",
       "      <td>0</td>\n",
       "      <td>0</td>\n",
       "      <td>0</td>\n",
       "      <td>0</td>\n",
       "      <td>0</td>\n",
       "      <td>1</td>\n",
       "      <td>0</td>\n",
       "    </tr>\n",
       "  </tbody>\n",
       "</table>\n",
       "<p>5 rows × 734 columns</p>\n",
       "</div>"
      ],
      "text/plain": [
       "         HIC_antibodies  HIV  HbsAg  Age  r_f_d  u_red_r  v_f_amount  Vlm  \\\n",
       "705234                0    0      0   27     21       70           0    0   \n",
       "135141                0    0      0   66     21        0           0    1   \n",
       "555226                0    0      0   44     21       63           1  800   \n",
       "4351546               0    0      0   60     21      182           0    1   \n",
       "952851                0    0      0   29     21       67           0  180   \n",
       "\n",
       "         Hc_u_004a13c3db6768e6  Hc_u_014bfb51b0b9c3e3  ...  State_PR  \\\n",
       "705234                       0                      0  ...         1   \n",
       "135141                       0                      0  ...         0   \n",
       "555226                       0                      0  ...         0   \n",
       "4351546                      0                      0  ...         0   \n",
       "952851                       0                      0  ...         0   \n",
       "\n",
       "         State_RJ  State_RN  State_RO  State_RR  State_RS  State_SC  State_SE  \\\n",
       "705234          0         0         0         0         0         0         0   \n",
       "135141          0         0         0         0         0         0         0   \n",
       "555226          0         0         0         0         0         0         0   \n",
       "4351546         0         0         0         0         0         0         0   \n",
       "952851          0         0         0         0         0         0         0   \n",
       "\n",
       "         State_SP  State_TO  \n",
       "705234          0         0  \n",
       "135141          1         0  \n",
       "555226          1         0  \n",
       "4351546         1         0  \n",
       "952851          1         0  \n",
       "\n",
       "[5 rows x 734 columns]"
      ]
     },
     "execution_count": 14,
     "metadata": {},
     "output_type": "execute_result"
    }
   ],
   "source": [
    "X.head()"
   ]
  },
  {
   "cell_type": "code",
   "execution_count": 15,
   "id": "4e52f155",
   "metadata": {},
   "outputs": [
    {
     "name": "stdout",
     "output_type": "stream",
     "text": [
      "number of classes: 10\n"
     ]
    }
   ],
   "source": [
    "num_classes = len(Y.unique())\n",
    "print(\"number of classes:\", num_classes)"
   ]
  },
  {
   "cell_type": "code",
   "execution_count": 16,
   "id": "108d27e9",
   "metadata": {},
   "outputs": [],
   "source": [
    "from sklearn.model_selection import train_test_split\n",
    "X_train, X_test, y_train, y_test = train_test_split(\n",
    "    X,\n",
    "    Y,\n",
    "    test_size=0.2,\n",
    "    random_state=42,\n",
    ")"
   ]
  },
  {
   "cell_type": "code",
   "execution_count": 17,
   "id": "06b4da22",
   "metadata": {},
   "outputs": [
    {
     "name": "stdout",
     "output_type": "stream",
     "text": [
      "number of train classes: 10\n",
      "number of test classes: 10\n"
     ]
    }
   ],
   "source": [
    "num_train_classes = len(y_train.unique())\n",
    "num_test_classes = len(y_test.unique())\n",
    "print(\"number of train classes:\", num_train_classes)\n",
    "print(\"number of test classes:\", num_test_classes)"
   ]
  },
  {
   "cell_type": "code",
   "execution_count": 18,
   "id": "702e8b54",
   "metadata": {},
   "outputs": [
    {
     "name": "stdout",
     "output_type": "stream",
     "text": [
      "CPU times: user 1min 54s, sys: 935 ms, total: 1min 55s\n",
      "Wall time: 1min 55s\n"
     ]
    },
    {
     "data": {
      "text/plain": [
       "DecisionTreeClassifier(min_samples_split=20, random_state=99)"
      ]
     },
     "execution_count": 18,
     "metadata": {},
     "output_type": "execute_result"
    }
   ],
   "source": [
    "%%time\n",
    "from sklearn.tree import DecisionTreeClassifier\n",
    "dt_clf = DecisionTreeClassifier(min_samples_split=20, random_state=99)\n",
    "dt_clf.fit(X_train, y_train)"
   ]
  },
  {
   "cell_type": "code",
   "execution_count": 19,
   "id": "f96672ae",
   "metadata": {},
   "outputs": [],
   "source": [
    "y_pred_dt = dt_clf.predict(X_test)"
   ]
  },
  {
   "cell_type": "code",
   "execution_count": 20,
   "id": "1ac23b97",
   "metadata": {},
   "outputs": [],
   "source": [
    "from sklearn.metrics import accuracy_score, \\\n",
    "precision_recall_fscore_support, recall_score, f1_score\n",
    "def print_metrics(y_test, y_pred):\n",
    "    acc = accuracy_score(y_test, y_pred)\n",
    "    p, r, f1, _ = precision_recall_fscore_support(y_test, y_pred, average='macro')\n",
    "    print(f\"Accuracy: {acc:.4f}\")\n",
    "    print(f\"Precision: {p:.4f}\")\n",
    "    print(f\"Recall: {r:.4f}\")\n",
    "    print(f\"F1 Score: {f1:.4f}\")"
   ]
  },
  {
   "cell_type": "code",
   "execution_count": 21,
   "id": "80b5988e",
   "metadata": {},
   "outputs": [
    {
     "name": "stdout",
     "output_type": "stream",
     "text": [
      "Accuracy: 0.9815\n",
      "Precision: 0.4102\n",
      "Recall: 0.2738\n",
      "F1 Score: 0.3213\n"
     ]
    }
   ],
   "source": [
    "print_metrics(y_test, y_pred_dt)"
   ]
  },
  {
   "cell_type": "code",
   "execution_count": 22,
   "id": "1854cd5d",
   "metadata": {},
   "outputs": [
    {
     "data": {
      "text/plain": [
       "KNeighborsClassifier()"
      ]
     },
     "execution_count": 22,
     "metadata": {},
     "output_type": "execute_result"
    }
   ],
   "source": [
    "from sklearn.neighbors import KNeighborsClassifier\n",
    "knn_clf = KNeighborsClassifier()\n",
    "knn_clf.fit(X_train, y_train)"
   ]
  },
  {
   "cell_type": "code",
   "execution_count": 23,
   "id": "719520be",
   "metadata": {},
   "outputs": [],
   "source": [
    "y_pred_knn = knn_clf.predict(X_test)"
   ]
  },
  {
   "cell_type": "code",
   "execution_count": 24,
   "id": "fc7b35b0",
   "metadata": {},
   "outputs": [
    {
     "name": "stdout",
     "output_type": "stream",
     "text": [
      "Accuracy: 0.9821\n",
      "Precision: 0.3053\n",
      "Recall: 0.1264\n",
      "F1 Score: 0.1452\n"
     ]
    }
   ],
   "source": [
    "print_metrics(y_test, y_pred_knn)"
   ]
  }
 ],
 "metadata": {
  "kernelspec": {
   "display_name": "py3.7",
   "language": "python",
   "name": "py3.7"
  },
  "language_info": {
   "codemirror_mode": {
    "name": "ipython",
    "version": 3
   },
   "file_extension": ".py",
   "mimetype": "text/x-python",
   "name": "python",
   "nbconvert_exporter": "python",
   "pygments_lexer": "ipython3",
   "version": "3.7.4"
  }
 },
 "nbformat": 4,
 "nbformat_minor": 5
}

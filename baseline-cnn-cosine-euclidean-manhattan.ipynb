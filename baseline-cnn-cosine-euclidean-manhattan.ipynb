{
 "cells": [
  {
   "cell_type": "markdown",
   "id": "35f9974c",
   "metadata": {},
   "source": [
    "## !!! Baseline similarity using CNN and Cosine Similarity, Euclidean and Manhattan Distance !!!\n",
    "This uses 2d convolution"
   ]
  },
  {
   "cell_type": "code",
   "execution_count": 81,
   "id": "100f8317",
   "metadata": {},
   "outputs": [],
   "source": [
    "import numpy as np\n",
    "import pandas as pd\n",
    "import torch \n",
    "import torch.nn as nn\n",
    "\n",
    "import random\n",
    "import os"
   ]
  },
  {
   "cell_type": "code",
   "execution_count": 82,
   "id": "572358a8",
   "metadata": {},
   "outputs": [],
   "source": [
    "seed = 101\n",
    "random.seed(seed)\n",
    "np.random.seed(seed)\n",
    "torch.manual_seed(seed)\n",
    "os.environ[\"PYTHONHASHSEED\"] = str(seed)"
   ]
  },
  {
   "cell_type": "markdown",
   "id": "ba79683b",
   "metadata": {},
   "source": [
    "### Loading data\n",
    "* Re-using the saved pre-processed data of patients grouped by visits. "
   ]
  },
  {
   "cell_type": "code",
   "execution_count": 83,
   "id": "b0777fe5",
   "metadata": {},
   "outputs": [],
   "source": [
    "X = torch.load(\"processed-data/p_x.pt\")\n",
    "Y = torch.load(\"processed-data/p_y.pt\")"
   ]
  },
  {
   "cell_type": "code",
   "execution_count": 84,
   "id": "20c16b45",
   "metadata": {},
   "outputs": [
    {
     "name": "stdout",
     "output_type": "stream",
     "text": [
      "184123\n",
      "184123\n",
      "{'N189', 'N180', 'N088', 'N039', 'N188', 'E142', 'I10', 'E102', 'I120', 'N083'}\n"
     ]
    }
   ],
   "source": [
    "print(len(Y))\n",
    "print(len(X))\n",
    "print(set(Y))"
   ]
  },
  {
   "cell_type": "code",
   "execution_count": 85,
   "id": "d0021834",
   "metadata": {},
   "outputs": [
    {
     "name": "stdout",
     "output_type": "stream",
     "text": [
      "(184123, 40, 42)\n",
      "184123\n"
     ]
    }
   ],
   "source": [
    "print(X.shape)\n",
    "print(len(Y))"
   ]
  },
  {
   "cell_type": "markdown",
   "id": "fb7ed8af",
   "metadata": {},
   "source": [
    "### Number of patients in each target class"
   ]
  },
  {
   "cell_type": "code",
   "execution_count": 86,
   "id": "64f758b5",
   "metadata": {},
   "outputs": [
    {
     "name": "stdout",
     "output_type": "stream",
     "text": [
      "N189: 2690\n",
      "N180: 178540\n",
      "N088: 129\n",
      "N039: 316\n",
      "N188: 307\n",
      "E142: 178\n",
      "I10: 360\n",
      "E102: 100\n",
      "I120: 1189\n",
      "N083: 314\n"
     ]
    }
   ],
   "source": [
    "for l in set(Y):\n",
    "    print(f\"{l}:\", len(np.where(np.array(Y) == l)[0]))"
   ]
  },
  {
   "cell_type": "markdown",
   "id": "156d6d2e",
   "metadata": {},
   "source": [
    "### Converting target lables to one-hot encoding "
   ]
  },
  {
   "cell_type": "code",
   "execution_count": 87,
   "id": "fb4a7046",
   "metadata": {},
   "outputs": [],
   "source": [
    "y_labels = list(set(Y))\n",
    "Y_oh = np.zeros((len(Y), len(y_labels)))\n",
    "for idx, y in enumerate(Y):\n",
    "    Y_oh[idx][y_labels.index(y)] = 1"
   ]
  },
  {
   "cell_type": "code",
   "execution_count": 88,
   "id": "d4551dac",
   "metadata": {},
   "outputs": [
    {
     "name": "stdout",
     "output_type": "stream",
     "text": [
      "(184123, 10)\n"
     ]
    },
    {
     "data": {
      "text/plain": [
       "array([[0., 1., 0., ..., 0., 0., 0.],\n",
       "       [0., 1., 0., ..., 0., 0., 0.],\n",
       "       [0., 1., 0., ..., 0., 0., 0.],\n",
       "       ...,\n",
       "       [0., 1., 0., ..., 0., 0., 0.],\n",
       "       [0., 1., 0., ..., 0., 0., 0.],\n",
       "       [0., 1., 0., ..., 0., 0., 0.]])"
      ]
     },
     "execution_count": 88,
     "metadata": {},
     "output_type": "execute_result"
    }
   ],
   "source": [
    "print(Y_oh.shape)\n",
    "Y_oh"
   ]
  },
  {
   "cell_type": "markdown",
   "id": "d0991d7c",
   "metadata": {},
   "source": [
    "### Converting patient data (X) and target one-hot encoded data (Y_oh) as tensors to build the model"
   ]
  },
  {
   "cell_type": "code",
   "execution_count": 89,
   "id": "2f326987",
   "metadata": {},
   "outputs": [
    {
     "name": "stdout",
     "output_type": "stream",
     "text": [
      "Xt shape: torch.Size([184123, 40, 42])\n",
      "Yt shape: torch.Size([184123, 10])\n"
     ]
    }
   ],
   "source": [
    "Xt = torch.tensor(X)\n",
    "Yt = torch.tensor(Y_oh)\n",
    "Xt = Xt.type(torch.FloatTensor)\n",
    "Yt = Yt.type(torch.LongTensor)\n",
    "print(\"Xt shape:\", Xt.shape)\n",
    "print(\"Yt shape:\", Yt.shape)"
   ]
  },
  {
   "cell_type": "markdown",
   "id": "af6c694f",
   "metadata": {},
   "source": [
    "### A custom dataset to load pairwise data. We are just picking adjacent patient data as pair to learn patient similiarity. Data is shuffled by dataloader for training "
   ]
  },
  {
   "cell_type": "code",
   "execution_count": 137,
   "id": "d11bcec0",
   "metadata": {},
   "outputs": [],
   "source": [
    "from torch.utils.data import Dataset\n",
    "from torch.utils.data import random_split\n",
    "\n",
    "class PairwiseDataset(Dataset):\n",
    "    def __init__(self, X, y):\n",
    "        self.X = X\n",
    "        self.y = y\n",
    "        self.n = len(X)\n",
    "\n",
    "    def __len__(self):\n",
    "        return len(self.X)\n",
    "\n",
    "    def __getitem__(self, idx):\n",
    "        x1 = self.X[idx]\n",
    "        y1 = self.y[idx]\n",
    "        if idx+1 == self.n:\n",
    "            x2 = self.X[idx]\n",
    "            y2 = self.y[idx]\n",
    "        else:\n",
    "            x2 = self.X[idx+1]\n",
    "            y2 = self.y[idx+1]\n",
    "        \n",
    "        y = int(not np.array_equal(y1, y2))\n",
    "        \n",
    "        return [x1, x2, np.asarray([y]), y1, y2]\n",
    "\n",
    "    def get_splits(self, n_test=0.2):\n",
    "        test_size = round(n_test * len(self.X))\n",
    "        train_size = len(self.X) - test_size\n",
    "        \n",
    "        return random_split(self, [train_size, test_size])"
   ]
  },
  {
   "cell_type": "code",
   "execution_count": 149,
   "id": "08d3e8df",
   "metadata": {},
   "outputs": [
    {
     "name": "stdout",
     "output_type": "stream",
     "text": [
      "# of train batches: 4604\n",
      "# of test batches: 1151\n"
     ]
    }
   ],
   "source": [
    "from torch.utils.data import DataLoader\n",
    "\n",
    "BATCH_SIZE = 32\n",
    "\n",
    "dataset = PairwiseDataset(Xt, Yt)\n",
    "train, test = dataset.get_splits()\n",
    "train_dl = DataLoader(train, batch_size=BATCH_SIZE, shuffle=True)\n",
    "test_dl = DataLoader(test, batch_size=BATCH_SIZE, shuffle=False)\n",
    "print(\"# of train batches:\", len(train_dl))\n",
    "print(\"# of test batches:\", len(test_dl))"
   ]
  },
  {
   "cell_type": "code",
   "execution_count": 150,
   "id": "28ed2dee",
   "metadata": {},
   "outputs": [
    {
     "name": "stdout",
     "output_type": "stream",
     "text": [
      "Shape of a batch x1: torch.Size([32, 40, 42])\n",
      "Shape of a batch y1: torch.Size([32, 10])\n",
      "Shape of a batch x2: torch.Size([32, 40, 42])\n",
      "Shape of a batch y2: torch.Size([32, 10])\n",
      "Shape of a batch y: torch.Size([32, 1])\n"
     ]
    }
   ],
   "source": [
    "train_iter = iter(train_dl)\n",
    "x1, x2, y, y1, y2 = next(train_iter)\n",
    "\n",
    "print('Shape of a batch x1:', x1.shape)\n",
    "print('Shape of a batch y1:', y1.shape)\n",
    "print('Shape of a batch x2:', x2.shape)\n",
    "print('Shape of a batch y2:', y2.shape)\n",
    "print('Shape of a batch y:', y.shape)"
   ]
  },
  {
   "cell_type": "markdown",
   "id": "b8054227",
   "metadata": {},
   "source": [
    "### CNN Similairty models\n",
    "* CNNCosineSimNet - CNN using consine similarity\n",
    "* CNNEuclideanSimNet - CNN using euclidean distance \n",
    "* CNNManhattanSimNet - CNN using manhattan distance"
   ]
  },
  {
   "cell_type": "code",
   "execution_count": 164,
   "id": "7508ae0d",
   "metadata": {},
   "outputs": [],
   "source": [
    "import torch.nn.functional as F\n",
    "\n",
    "class CNNSimNet(nn.Module):\n",
    "    def __init__(self):\n",
    "        super(CNNSimNet, self).__init__()\n",
    "        self.conv = nn.Conv2d(1, 128, (3, 6), stride=2)\n",
    "        self.relu = nn.ReLU()\n",
    "        self.maxpool = nn.MaxPool2d((3, 6), stride=2)\n",
    "                \n",
    "        self.fc = nn.Linear(8064, 10)\n",
    "        \n",
    "        # Initialized by the child classes\n",
    "        self.similarity = None\n",
    "        \n",
    "    def _forward(self, x):\n",
    "        x = x[:, None, :]\n",
    "\n",
    "        x = self.conv(x)\n",
    "        x = self.relu(x)\n",
    "        x = self.maxpool(x)\n",
    "\n",
    "        f_out = x.flatten(start_dim=1)\n",
    "        x_out = self.fc(f_out)\n",
    "        \n",
    "        return x_out\n",
    "    \n",
    "    def forward(self, x1, x2):\n",
    "        x1_out = self._forward(x1)\n",
    "        x2_out = self._forward(x2)\n",
    "        \n",
    "        y_out = self.similarity(x1_out, x2_out)\n",
    "        y_out = y_out.unsqueeze(0)\n",
    "        \n",
    "        return y_out\n",
    "    \n",
    "    \n",
    "class CNNCosineSimNet(CNNSimNet):\n",
    "    def __init__(self):\n",
    "        super(CNNCosineSimNet, self).__init__()\n",
    "        self.similarity = nn.CosineSimilarity()\n",
    "\n",
    "class CNNEuclideanSimNet(CNNSimNet):\n",
    "    def __init__(self):\n",
    "        super(CNNEuclideanSimNet, self).__init__()\n",
    "        self.similarity = nn.PairwiseDistance(p=2)\n",
    "        \n",
    "class CNNManhattanSimNet(CNNSimNet):\n",
    "    def __init__(self):\n",
    "        super(CNNManhattanSimNet, self).__init__()\n",
    "        self.similarity = nn.PairwiseDistance(p=1)"
   ]
  },
  {
   "cell_type": "code",
   "execution_count": 165,
   "id": "00bb505e",
   "metadata": {},
   "outputs": [],
   "source": [
    "from sklearn.metrics import accuracy_score, \\\n",
    "precision_recall_fscore_support, recall_score, f1_score\n",
    "import warnings\n",
    "warnings.filterwarnings(\"ignore\")\n",
    "\n",
    "def model_metrics(y_test, y_pred):\n",
    "    acc = accuracy_score(y_test, y_pred)\n",
    "    p, r, f1, _ = precision_recall_fscore_support(y_test, y_pred, average='macro')\n",
    "    return acc, p, r, f1"
   ]
  },
  {
   "cell_type": "code",
   "execution_count": 166,
   "id": "4e4877f9",
   "metadata": {},
   "outputs": [],
   "source": [
    "from numpy import vstack\n",
    "from numpy import argmax\n",
    "\n",
    "def evaluate(model, dl):\n",
    "    model.eval()\n",
    "    all_y_pred, all_y_true = list(), list()\n",
    "    for x1, x2, y0, y1, y2 in dl:\n",
    "        y_hat = model(x1, x2)\n",
    "\n",
    "        y_true = y0.flatten().unsqueeze(0).type(torch.FloatTensor)\n",
    "        y_pred = y_hat\n",
    "        \n",
    "        y_pred = (y_pred > 0.5).type(torch.FloatTensor)\n",
    "\n",
    "        pad_len = BATCH_SIZE - y_true.shape[1]\n",
    "        if pad_len > 0:\n",
    "            all_y_pred.append(np.pad(y_pred.flatten(), pad_width=(0,pad_len)))\n",
    "            all_y_true.append(np.pad(y_true.flatten(), pad_width=(0,pad_len)))\n",
    "        else:\n",
    "            all_y_pred.append(y_pred.flatten())\n",
    "            all_y_true.append(y_true.flatten())\n",
    "    all_y_pred, all_y_true = vstack(all_y_pred), vstack(all_y_true)\n",
    "    acc, p, r, f1 = model_metrics(all_y_true.flatten(), all_y_pred.flatten())\n",
    "    print(f\"acc: {acc:.4f}, precision: {p:.4f}, recall: {r:.4f}, f1: {f1:.4f}\")  "
   ]
  },
  {
   "cell_type": "code",
   "execution_count": 167,
   "id": "f0652c01",
   "metadata": {},
   "outputs": [],
   "source": [
    "def train(model, optimizer, criterion):\n",
    "    n_epochs = 10\n",
    "    model.train()\n",
    "    train_loss_arr = []\n",
    "    for epoch in range(n_epochs):\n",
    "        train_loss = 0\n",
    "        for x1, x2, y0, y1, y2 in train_dl:\n",
    "            optimizer.zero_grad()\n",
    "            y_hat = model(x1, x2)\n",
    "\n",
    "            y_true = y0.flatten().unsqueeze(0).type(torch.FloatTensor)\n",
    "            y_pred = y_hat\n",
    "            \n",
    "            loss = criterion(y_pred, y_true)\n",
    "            loss.backward()\n",
    "            optimizer.step()\n",
    "            train_loss += loss.item()\n",
    "        train_loss = train_loss / len(train_dl)\n",
    "        print('Epoch: {} \\tTraining Loss: {:.4f}'.format(epoch, train_loss))\n",
    "        evaluate(model, test_dl)"
   ]
  },
  {
   "cell_type": "markdown",
   "id": "2a22e7c0",
   "metadata": {},
   "source": [
    "### Training and evalulating the models "
   ]
  },
  {
   "cell_type": "markdown",
   "id": "a21e2b88",
   "metadata": {},
   "source": [
    "#### CNN using Cosine Similarity"
   ]
  },
  {
   "cell_type": "code",
   "execution_count": 168,
   "id": "c2561dfc",
   "metadata": {},
   "outputs": [],
   "source": [
    "from torch.optim import Adam\n",
    "from torch.nn import CrossEntropyLoss"
   ]
  },
  {
   "cell_type": "code",
   "execution_count": 155,
   "id": "cede9d6f",
   "metadata": {},
   "outputs": [
    {
     "name": "stdout",
     "output_type": "stream",
     "text": [
      "Epoch: 0 \tTraining Loss: 5.0140\n",
      "acc: 0.2084, precision: 0.5134, recall: 0.5440, f1: 0.1957\n",
      "Epoch: 1 \tTraining Loss: 4.9940\n",
      "acc: 0.2379, precision: 0.5151, recall: 0.5560, f1: 0.2189\n",
      "Epoch: 2 \tTraining Loss: 4.9846\n",
      "acc: 0.2387, precision: 0.5158, recall: 0.5590, f1: 0.2196\n",
      "Epoch: 3 \tTraining Loss: 4.9774\n",
      "acc: 0.2453, precision: 0.5160, recall: 0.5610, f1: 0.2247\n",
      "Epoch: 4 \tTraining Loss: 4.9708\n",
      "acc: 0.2620, precision: 0.5146, recall: 0.5592, f1: 0.2368\n",
      "Epoch: 5 \tTraining Loss: 4.9661\n",
      "acc: 0.2817, precision: 0.5160, recall: 0.5687, f1: 0.2512\n",
      "Epoch: 6 \tTraining Loss: 4.9616\n",
      "acc: 0.2667, precision: 0.5163, recall: 0.5671, f1: 0.2406\n",
      "Epoch: 7 \tTraining Loss: 4.9578\n",
      "acc: 0.2838, precision: 0.5169, recall: 0.5729, f1: 0.2529\n",
      "Epoch: 8 \tTraining Loss: 4.9536\n",
      "acc: 0.2918, precision: 0.5162, recall: 0.5717, f1: 0.2584\n",
      "Epoch: 9 \tTraining Loss: 4.9494\n",
      "acc: 0.2833, precision: 0.5174, recall: 0.5750, f1: 0.2527\n",
      "CPU times: user 54min 20s, sys: 4min 9s, total: 58min 30s\n",
      "Wall time: 30min 47s\n"
     ]
    }
   ],
   "source": [
    "%%time\n",
    "model_c = CNNCosineSimNet()\n",
    "optimizer_c = Adam(model_c.parameters(), lr=0.01)\n",
    "criterion_c = CrossEntropyLoss()\n",
    "train(model_c, optimizer_c, criterion_c)"
   ]
  },
  {
   "cell_type": "markdown",
   "id": "58c1d3ff",
   "metadata": {},
   "source": [
    "#### CNN using Euclidean Distance"
   ]
  },
  {
   "cell_type": "code",
   "execution_count": 161,
   "id": "29e6c3c1",
   "metadata": {},
   "outputs": [
    {
     "name": "stdout",
     "output_type": "stream",
     "text": [
      "Epoch: 0 \tTraining Loss: 5.0864\n",
      "acc: 0.5481, precision: 0.5003, recall: 0.5016, f1: 0.3915\n",
      "Epoch: 1 \tTraining Loss: 5.0443\n",
      "acc: 0.6881, precision: 0.5042, recall: 0.5203, f1: 0.4503\n",
      "Epoch: 2 \tTraining Loss: 5.0335\n",
      "acc: 0.9536, precision: 0.5255, recall: 0.5008, f1: 0.4910\n",
      "Epoch: 3 \tTraining Loss: 5.0356\n",
      "acc: 0.9526, precision: 0.5200, recall: 0.5012, f1: 0.4924\n",
      "Epoch: 4 \tTraining Loss: 5.0347\n",
      "acc: 0.9547, precision: 0.4774, recall: 0.5000, f1: 0.4884\n",
      "Epoch: 5 \tTraining Loss: 5.0353\n",
      "acc: 0.9543, precision: 0.5774, recall: 0.5015, f1: 0.4918\n",
      "Epoch: 6 \tTraining Loss: 5.0348\n",
      "acc: 0.9526, precision: 0.5159, recall: 0.5009, f1: 0.4919\n",
      "Epoch: 7 \tTraining Loss: 5.0346\n",
      "acc: 0.9547, precision: 0.7274, recall: 0.5009, f1: 0.4902\n",
      "Epoch: 8 \tTraining Loss: 5.0338\n",
      "acc: 0.9470, precision: 0.5096, recall: 0.5019, f1: 0.4969\n",
      "Epoch: 9 \tTraining Loss: 5.0350\n",
      "acc: 0.9533, precision: 0.5305, recall: 0.5013, f1: 0.4921\n",
      "CPU times: user 55min 1s, sys: 3min 24s, total: 58min 25s\n",
      "Wall time: 30min 9s\n"
     ]
    }
   ],
   "source": [
    "%%time\n",
    "model_e = CNNEuclideanSimNet()\n",
    "optimizer_e = Adam(model_e.parameters(), lr=0.01)\n",
    "criterion_e = CrossEntropyLoss()\n",
    "train(model_e, optimizer_e, criterion_e)"
   ]
  },
  {
   "cell_type": "markdown",
   "id": "1f2c55b0",
   "metadata": {},
   "source": [
    "#### CNN using Manhattan Distance"
   ]
  },
  {
   "cell_type": "code",
   "execution_count": 169,
   "id": "ee435a69",
   "metadata": {},
   "outputs": [
    {
     "name": "stdout",
     "output_type": "stream",
     "text": [
      "Epoch: 0 \tTraining Loss: 5.2048\n",
      "acc: 0.9512, precision: 0.5013, recall: 0.5001, f1: 0.4913\n",
      "Epoch: 1 \tTraining Loss: 5.0578\n",
      "acc: 0.9535, precision: 0.5062, recall: 0.5002, f1: 0.4898\n",
      "Epoch: 2 \tTraining Loss: 5.0612\n",
      "acc: 0.8573, precision: 0.5006, recall: 0.5012, f1: 0.4939\n",
      "Epoch: 3 \tTraining Loss: 5.0568\n",
      "acc: 0.9540, precision: 0.4935, recall: 0.4999, f1: 0.4888\n",
      "Epoch: 4 \tTraining Loss: 5.0616\n",
      "acc: 0.9381, precision: 0.4976, recall: 0.4990, f1: 0.4956\n",
      "Epoch: 5 \tTraining Loss: 5.0598\n",
      "acc: 0.8868, precision: 0.5069, recall: 0.5113, f1: 0.5063\n",
      "Epoch: 6 \tTraining Loss: 5.0616\n",
      "acc: 0.9070, precision: 0.4906, recall: 0.4896, f1: 0.4900\n",
      "Epoch: 7 \tTraining Loss: 5.0594\n",
      "acc: 0.8282, precision: 0.4945, recall: 0.4851, f1: 0.4797\n",
      "Epoch: 8 \tTraining Loss: 5.0582\n",
      "acc: 0.7859, precision: 0.4962, recall: 0.4867, f1: 0.4708\n",
      "Epoch: 9 \tTraining Loss: 5.0603\n",
      "acc: 0.9533, precision: 0.4773, recall: 0.4993, f1: 0.4881\n",
      "CPU times: user 49min 37s, sys: 3min 23s, total: 53min\n",
      "Wall time: 35min 3s\n"
     ]
    }
   ],
   "source": [
    "%%time\n",
    "model_m = CNNManhattanSimNet()\n",
    "optimizer_m = Adam(model_m.parameters(), lr=0.01)\n",
    "criterion_m = CrossEntropyLoss()\n",
    "train(model_m, optimizer_m, criterion_m)"
   ]
  },
  {
   "cell_type": "code",
   "execution_count": null,
   "id": "7c7f1b08",
   "metadata": {},
   "outputs": [],
   "source": []
  }
 ],
 "metadata": {
  "kernelspec": {
   "display_name": "py3.7-tf",
   "language": "python",
   "name": "py3.7-tf"
  },
  "language_info": {
   "codemirror_mode": {
    "name": "ipython",
    "version": 3
   },
   "file_extension": ".py",
   "mimetype": "text/x-python",
   "name": "python",
   "nbconvert_exporter": "python",
   "pygments_lexer": "ipython3",
   "version": "3.7.4"
  }
 },
 "nbformat": 4,
 "nbformat_minor": 5
}
